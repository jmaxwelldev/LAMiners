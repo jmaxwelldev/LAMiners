{
 "cells": [
  {
   "cell_type": "code",
   "execution_count": 57,
   "metadata": {},
   "outputs": [],
   "source": [
    "import pandas as pd\n",
    "import numpy as np\n",
    "from datetime import datetime\n",
    "import re "
   ]
  },
  {
   "cell_type": "code",
   "execution_count": 32,
   "metadata": {
    "collapsed": true
   },
   "outputs": [],
   "source": [
    "crimeData = '../Data/Crime_Data_Clean_Consolidated.csv'"
   ]
  },
  {
   "cell_type": "code",
   "execution_count": 33,
   "metadata": {},
   "outputs": [],
   "source": [
    "dfCrime = pd.read_csv(crimeData).drop([\"Unnamed: 0\"], axis=1)"
   ]
  },
  {
   "cell_type": "code",
   "execution_count": 34,
   "metadata": {
    "scrolled": true
   },
   "outputs": [
    {
     "data": {
      "text/html": [
       "<div>\n",
       "<style scoped>\n",
       "    .dataframe tbody tr th:only-of-type {\n",
       "        vertical-align: middle;\n",
       "    }\n",
       "\n",
       "    .dataframe tbody tr th {\n",
       "        vertical-align: top;\n",
       "    }\n",
       "\n",
       "    .dataframe thead th {\n",
       "        text-align: right;\n",
       "    }\n",
       "</style>\n",
       "<table border=\"1\" class=\"dataframe\">\n",
       "  <thead>\n",
       "    <tr style=\"text-align: right;\">\n",
       "      <th></th>\n",
       "      <th>ID</th>\n",
       "      <th>DateReported</th>\n",
       "      <th>DateOccurred</th>\n",
       "      <th>TimeOccurred</th>\n",
       "      <th>AreaID</th>\n",
       "      <th>ReportingDistrict</th>\n",
       "      <th>CrimeCode</th>\n",
       "      <th>MOCodes</th>\n",
       "      <th>VictimAge</th>\n",
       "      <th>VictimSex</th>\n",
       "      <th>...</th>\n",
       "      <th>DailyAverageDryBulbTemp</th>\n",
       "      <th>DailyAverageRelativeHumidity</th>\n",
       "      <th>DailySunrise</th>\n",
       "      <th>DailySunset</th>\n",
       "      <th>DailyPrecip</th>\n",
       "      <th>DailySnowfall</th>\n",
       "      <th>DailySnowDepth</th>\n",
       "      <th>DailyAverageWindSpeed</th>\n",
       "      <th>DailyAverageHeatIndex</th>\n",
       "      <th>night</th>\n",
       "    </tr>\n",
       "  </thead>\n",
       "  <tbody>\n",
       "    <tr>\n",
       "      <th>0</th>\n",
       "      <td>180204779</td>\n",
       "      <td>2018-01-17</td>\n",
       "      <td>2010-01-01</td>\n",
       "      <td>00:01:00</td>\n",
       "      <td>2</td>\n",
       "      <td>245</td>\n",
       "      <td>813</td>\n",
       "      <td>0510 0522 0558 1258 0602</td>\n",
       "      <td>-1</td>\n",
       "      <td>F</td>\n",
       "      <td>...</td>\n",
       "      <td>60</td>\n",
       "      <td>44</td>\n",
       "      <td>06:59:00</td>\n",
       "      <td>16:56:00</td>\n",
       "      <td>0.0</td>\n",
       "      <td>0.0</td>\n",
       "      <td>0.0</td>\n",
       "      <td>0.9</td>\n",
       "      <td>82.6</td>\n",
       "      <td>1</td>\n",
       "    </tr>\n",
       "    <tr>\n",
       "      <th>1</th>\n",
       "      <td>172020383</td>\n",
       "      <td>2017-11-12</td>\n",
       "      <td>2010-01-01</td>\n",
       "      <td>00:01:00</td>\n",
       "      <td>20</td>\n",
       "      <td>2074</td>\n",
       "      <td>354</td>\n",
       "      <td>0100</td>\n",
       "      <td>51</td>\n",
       "      <td>F</td>\n",
       "      <td>...</td>\n",
       "      <td>60</td>\n",
       "      <td>44</td>\n",
       "      <td>06:59:00</td>\n",
       "      <td>16:56:00</td>\n",
       "      <td>0.0</td>\n",
       "      <td>0.0</td>\n",
       "      <td>0.0</td>\n",
       "      <td>0.9</td>\n",
       "      <td>82.6</td>\n",
       "      <td>1</td>\n",
       "    </tr>\n",
       "    <tr>\n",
       "      <th>2</th>\n",
       "      <td>171913109</td>\n",
       "      <td>2017-06-13</td>\n",
       "      <td>2010-01-01</td>\n",
       "      <td>00:01:00</td>\n",
       "      <td>19</td>\n",
       "      <td>1994</td>\n",
       "      <td>354</td>\n",
       "      <td>0377 1822</td>\n",
       "      <td>42</td>\n",
       "      <td>F</td>\n",
       "      <td>...</td>\n",
       "      <td>60</td>\n",
       "      <td>44</td>\n",
       "      <td>06:59:00</td>\n",
       "      <td>16:56:00</td>\n",
       "      <td>0.0</td>\n",
       "      <td>0.0</td>\n",
       "      <td>0.0</td>\n",
       "      <td>0.9</td>\n",
       "      <td>82.6</td>\n",
       "      <td>1</td>\n",
       "    </tr>\n",
       "    <tr>\n",
       "      <th>3</th>\n",
       "      <td>172013071</td>\n",
       "      <td>2017-06-28</td>\n",
       "      <td>2010-01-01</td>\n",
       "      <td>00:01:00</td>\n",
       "      <td>20</td>\n",
       "      <td>2025</td>\n",
       "      <td>820</td>\n",
       "      <td>1257 0550</td>\n",
       "      <td>-1</td>\n",
       "      <td>F</td>\n",
       "      <td>...</td>\n",
       "      <td>60</td>\n",
       "      <td>44</td>\n",
       "      <td>06:59:00</td>\n",
       "      <td>16:56:00</td>\n",
       "      <td>0.0</td>\n",
       "      <td>0.0</td>\n",
       "      <td>0.0</td>\n",
       "      <td>0.9</td>\n",
       "      <td>82.6</td>\n",
       "      <td>1</td>\n",
       "    </tr>\n",
       "    <tr>\n",
       "      <th>4</th>\n",
       "      <td>171809308</td>\n",
       "      <td>2017-04-05</td>\n",
       "      <td>2010-01-01</td>\n",
       "      <td>00:01:00</td>\n",
       "      <td>18</td>\n",
       "      <td>1891</td>\n",
       "      <td>760</td>\n",
       "      <td>0515 0913 1817 1820 0516 0500 0506</td>\n",
       "      <td>18</td>\n",
       "      <td>F</td>\n",
       "      <td>...</td>\n",
       "      <td>60</td>\n",
       "      <td>44</td>\n",
       "      <td>06:59:00</td>\n",
       "      <td>16:56:00</td>\n",
       "      <td>0.0</td>\n",
       "      <td>0.0</td>\n",
       "      <td>0.0</td>\n",
       "      <td>0.9</td>\n",
       "      <td>82.6</td>\n",
       "      <td>1</td>\n",
       "    </tr>\n",
       "  </tbody>\n",
       "</table>\n",
       "<p>5 rows × 41 columns</p>\n",
       "</div>"
      ],
      "text/plain": [
       "          ID DateReported DateOccurred TimeOccurred  AreaID  \\\n",
       "0  180204779   2018-01-17   2010-01-01     00:01:00       2   \n",
       "1  172020383   2017-11-12   2010-01-01     00:01:00      20   \n",
       "2  171913109   2017-06-13   2010-01-01     00:01:00      19   \n",
       "3  172013071   2017-06-28   2010-01-01     00:01:00      20   \n",
       "4  171809308   2017-04-05   2010-01-01     00:01:00      18   \n",
       "\n",
       "   ReportingDistrict  CrimeCode                             MOCodes  \\\n",
       "0                245        813            0510 0522 0558 1258 0602   \n",
       "1               2074        354                                0100   \n",
       "2               1994        354                           0377 1822   \n",
       "3               2025        820                           1257 0550   \n",
       "4               1891        760  0515 0913 1817 1820 0516 0500 0506   \n",
       "\n",
       "   VictimAge VictimSex  ...  DailyAverageDryBulbTemp  \\\n",
       "0         -1         F  ...                       60   \n",
       "1         51         F  ...                       60   \n",
       "2         42         F  ...                       60   \n",
       "3         -1         F  ...                       60   \n",
       "4         18         F  ...                       60   \n",
       "\n",
       "   DailyAverageRelativeHumidity  DailySunrise DailySunset  DailyPrecip  \\\n",
       "0                            44      06:59:00    16:56:00          0.0   \n",
       "1                            44      06:59:00    16:56:00          0.0   \n",
       "2                            44      06:59:00    16:56:00          0.0   \n",
       "3                            44      06:59:00    16:56:00          0.0   \n",
       "4                            44      06:59:00    16:56:00          0.0   \n",
       "\n",
       "   DailySnowfall  DailySnowDepth  DailyAverageWindSpeed DailyAverageHeatIndex  \\\n",
       "0            0.0             0.0                    0.9                  82.6   \n",
       "1            0.0             0.0                    0.9                  82.6   \n",
       "2            0.0             0.0                    0.9                  82.6   \n",
       "3            0.0             0.0                    0.9                  82.6   \n",
       "4            0.0             0.0                    0.9                  82.6   \n",
       "\n",
       "  night  \n",
       "0     1  \n",
       "1     1  \n",
       "2     1  \n",
       "3     1  \n",
       "4     1  \n",
       "\n",
       "[5 rows x 41 columns]"
      ]
     },
     "execution_count": 34,
     "metadata": {},
     "output_type": "execute_result"
    }
   ],
   "source": [
    "dfCrime.head()"
   ]
  },
  {
   "cell_type": "code",
   "execution_count": 37,
   "metadata": {
    "collapsed": true
   },
   "outputs": [],
   "source": [
    "crimeLen = len(dfCrime)"
   ]
  },
  {
   "cell_type": "code",
   "execution_count": null,
   "metadata": {
    "collapsed": true
   },
   "outputs": [],
   "source": []
  },
  {
   "cell_type": "code",
   "execution_count": 38,
   "metadata": {},
   "outputs": [
    {
     "data": {
      "text/plain": [
       "2017-08-07    0.048468\n",
       "2017-12-18    0.047625\n",
       "2017-07-24    0.047144\n",
       "2017-10-23    0.046421\n",
       "2017-11-28    0.045879\n",
       "2017-07-17    0.045759\n",
       "2016-07-05    0.045759\n",
       "2017-08-28    0.045638\n",
       "2017-05-22    0.045398\n",
       "2017-09-11    0.045217\n",
       "2017-06-05    0.045096\n",
       "2017-01-17    0.045036\n",
       "2016-01-22    0.044976\n",
       "2017-07-19    0.044916\n",
       "2015-10-12    0.044916\n",
       "2016-11-28    0.044856\n",
       "2017-08-31    0.044856\n",
       "2017-09-05    0.044675\n",
       "2016-06-27    0.044675\n",
       "2016-09-20    0.044555\n",
       "2017-10-16    0.044494\n",
       "2017-07-31    0.044374\n",
       "2017-07-25    0.044374\n",
       "2015-06-29    0.044314\n",
       "2017-11-14    0.044314\n",
       "2015-08-25    0.044254\n",
       "2016-08-22    0.044254\n",
       "2016-10-26    0.044193\n",
       "2016-11-01    0.044193\n",
       "2017-02-01    0.044133\n",
       "                ...   \n",
       "2010-01-02    0.022398\n",
       "2013-11-28    0.022157\n",
       "2012-11-22    0.022097\n",
       "2015-12-25    0.021735\n",
       "2014-01-19    0.021615\n",
       "2011-01-02    0.020832\n",
       "2013-12-25    0.020290\n",
       "2011-12-25    0.019989\n",
       "2010-01-01    0.019508\n",
       "2010-12-25    0.018544\n",
       "2018-01-02    0.014089\n",
       "2018-01-01    0.012162\n",
       "2018-01-03    0.011982\n",
       "2018-01-04    0.009573\n",
       "2018-01-05    0.008128\n",
       "2018-01-08    0.007044\n",
       "2018-01-09    0.006563\n",
       "2018-01-11    0.005238\n",
       "2018-01-12    0.005118\n",
       "2018-01-10    0.004937\n",
       "2018-01-15    0.004275\n",
       "2018-01-06    0.004094\n",
       "2018-01-18    0.003793\n",
       "2018-01-16    0.003432\n",
       "2018-01-07    0.003432\n",
       "2018-01-19    0.002890\n",
       "2018-01-13    0.002890\n",
       "2018-01-17    0.002830\n",
       "2018-01-14    0.002288\n",
       "2018-01-20    0.000662\n",
       "Name: DateReported, Length: 2942, dtype: float64"
      ]
     },
     "execution_count": 38,
     "metadata": {},
     "output_type": "execute_result"
    }
   ],
   "source": [
    "dateCounts =  dfCrime[\"DateReported\"].value_counts()\n",
    "dateCounts/crimeLen*100"
   ]
  },
  {
   "cell_type": "code",
   "execution_count": 42,
   "metadata": {},
   "outputs": [],
   "source": [
    "dates = [datetime.strptime(date, \"%Y-%m-%d\") for date in dfCrime[\"DateReported\"]]"
   ]
  },
  {
   "cell_type": "code",
   "execution_count": 71,
   "metadata": {},
   "outputs": [],
   "source": [
    "months1 = [re.sub(\"\\d{4}-\",\"\",date) for date in dfCrime[\"DateOccurred\"]]\n",
    "months2 = [re.sub(\"-\\d{2}\",\"\",date) for date in months1]\n"
   ]
  },
  {
   "cell_type": "code",
   "execution_count": 72,
   "metadata": {},
   "outputs": [],
   "source": [
    "months = pd.DataFrame(months2)"
   ]
  },
  {
   "cell_type": "code",
   "execution_count": 73,
   "metadata": {},
   "outputs": [
    {
     "data": {
      "text/plain": [
       "08    8.668035\n",
       "10    8.656475\n",
       "07    8.647865\n",
       "01    8.615171\n",
       "05    8.510889\n",
       "06    8.370783\n",
       "03    8.339475\n",
       "09    8.330865\n",
       "12    8.273004\n",
       "04    8.149877\n",
       "11    7.992792\n",
       "02    7.444770\n",
       "Name: 0, dtype: float64"
      ]
     },
     "execution_count": 73,
     "metadata": {},
     "output_type": "execute_result"
    }
   ],
   "source": [
    "counts = months[0].value_counts()\n",
    "counts/len(months)*100"
   ]
  },
  {
   "cell_type": "markdown",
   "metadata": {},
   "source": [
    "There Doesnt seem to be any one month that has significantly more crime"
   ]
  },
  {
   "cell_type": "code",
   "execution_count": 78,
   "metadata": {},
   "outputs": [
    {
     "data": {
      "text/plain": [
       "01    5.029009\n",
       "15    3.521197\n",
       "20    3.354057\n",
       "10    3.290416\n",
       "16    3.251823\n",
       "23    3.250378\n",
       "17    3.244176\n",
       "18    3.242912\n",
       "28    3.238095\n",
       "14    3.235385\n",
       "21    3.234783\n",
       "25    3.230448\n",
       "24    3.229846\n",
       "22    3.224548\n",
       "05    3.221778\n",
       "13    3.210519\n",
       "19    3.210158\n",
       "26    3.202632\n",
       "03    3.196792\n",
       "12    3.192577\n",
       "02    3.189446\n",
       "27    3.186375\n",
       "04    3.162774\n",
       "11    3.144049\n",
       "06    3.141761\n",
       "08    3.139352\n",
       "07    3.139292\n",
       "09    3.120567\n",
       "29    3.028809\n",
       "30    2.995453\n",
       "31    1.940593\n",
       "Name: 0, dtype: float64"
      ]
     },
     "execution_count": 78,
     "metadata": {},
     "output_type": "execute_result"
    }
   ],
   "source": [
    "days = [re.sub(\"\\d{4}-\\d{2}-\",\"\",date) for date in dfCrime[\"DateOccurred\"]]\n",
    "days = pd.DataFrame(days)\n",
    "counts = days[0].value_counts()\n",
    "counts/len(days)*100"
   ]
  },
  {
   "cell_type": "markdown",
   "metadata": {},
   "source": [
    "It would seem as though the first of the month has significantly more crime than other days. However, I believe this is noise. I think they just put the first when they don't know when it occured. "
   ]
  },
  {
   "cell_type": "code",
   "execution_count": 79,
   "metadata": {},
   "outputs": [
    {
     "data": {
      "text/plain": [
       "21    3.351830\n",
       "28    3.347976\n",
       "18    3.345387\n",
       "22    3.330696\n",
       "23    3.329733\n",
       "16    3.321785\n",
       "20    3.318534\n",
       "19    3.311068\n",
       "17    3.308058\n",
       "27    3.305408\n",
       "15    3.303361\n",
       "01    3.301013\n",
       "26    3.288610\n",
       "13    3.283613\n",
       "24    3.277231\n",
       "14    3.267236\n",
       "12    3.267116\n",
       "10    3.259770\n",
       "07    3.256398\n",
       "03    3.245380\n",
       "02    3.243935\n",
       "25    3.240262\n",
       "11    3.238215\n",
       "06    3.236891\n",
       "05    3.219912\n",
       "08    3.218527\n",
       "09    3.214794\n",
       "04    3.212265\n",
       "29    3.153923\n",
       "30    3.076193\n",
       "31    1.924879\n",
       "Name: 0, dtype: float64"
      ]
     },
     "execution_count": 79,
     "metadata": {},
     "output_type": "execute_result"
    }
   ],
   "source": [
    "days = [re.sub(\"\\d{4}-\\d{2}-\",\"\",date) for date in dfCrime[\"DateReported\"]]\n",
    "days = pd.DataFrame(days)\n",
    "counts = days[0].value_counts()\n",
    "counts/len(days)*100"
   ]
  },
  {
   "cell_type": "markdown",
   "metadata": {},
   "source": [
    "Interesting that on the 31st there are very few crimes reported."
   ]
  },
  {
   "cell_type": "code",
   "execution_count": 80,
   "metadata": {
    "collapsed": true
   },
   "outputs": [],
   "source": [
    "dates = [datetime.strptime(date, \"%Y-%m-%d\") for date in dfCrime[\"DateReported\"]]"
   ]
  },
  {
   "cell_type": "code",
   "execution_count": 82,
   "metadata": {
    "collapsed": true
   },
   "outputs": [],
   "source": [
    "DaysOfWeek = [date.strftime(\"%A\") for date in dates]"
   ]
  },
  {
   "cell_type": "code",
   "execution_count": 83,
   "metadata": {},
   "outputs": [
    {
     "data": {
      "text/plain": [
       "Monday       15.500541\n",
       "Tuesday      15.242425\n",
       "Wednesday    15.013330\n",
       "Thursday     14.779178\n",
       "Friday       14.387519\n",
       "Saturday     12.680597\n",
       "Sunday       12.396411\n",
       "Name: 0, dtype: float64"
      ]
     },
     "execution_count": 83,
     "metadata": {},
     "output_type": "execute_result"
    }
   ],
   "source": [
    "DaysOfWeek = pd.DataFrame(DaysOfWeek)\n",
    "counts = DaysOfWeek[0].value_counts()\n",
    "counts/len(DaysOfWeek)*100"
   ]
  },
  {
   "cell_type": "code",
   "execution_count": 85,
   "metadata": {},
   "outputs": [],
   "source": [
    "dates = [datetime.strptime(date, \"%Y-%m-%d\") for date in dfCrime[\"DateOccurred\"]]"
   ]
  },
  {
   "cell_type": "code",
   "execution_count": 86,
   "metadata": {},
   "outputs": [],
   "source": [
    "DaysOfWeek = [date.strftime(\"%A\") for date in dates]"
   ]
  },
  {
   "cell_type": "code",
   "execution_count": 87,
   "metadata": {},
   "outputs": [
    {
     "data": {
      "text/plain": [
       "Friday       15.440332\n",
       "Saturday     14.391794\n",
       "Monday       14.228808\n",
       "Wednesday    14.151199\n",
       "Thursday     14.061668\n",
       "Tuesday      13.999533\n",
       "Sunday       13.726666\n",
       "Name: 0, dtype: float64"
      ]
     },
     "execution_count": 87,
     "metadata": {},
     "output_type": "execute_result"
    }
   ],
   "source": [
    "DaysOfWeek = pd.DataFrame(DaysOfWeek)\n",
    "counts = DaysOfWeek[0].value_counts()\n",
    "counts/len(DaysOfWeek)*100"
   ]
  },
  {
   "cell_type": "markdown",
   "metadata": {},
   "source": []
  }
 ],
 "metadata": {
  "kernelspec": {
   "display_name": "Python 2",
   "language": "python",
   "name": "python2"
  },
  "language_info": {
   "codemirror_mode": {
    "name": "ipython",
    "version": 2
   },
   "file_extension": ".py",
   "mimetype": "text/x-python",
   "name": "python",
   "nbconvert_exporter": "python",
   "pygments_lexer": "ipython2",
   "version": "2.7.14"
  }
 },
 "nbformat": 4,
 "nbformat_minor": 2
}
