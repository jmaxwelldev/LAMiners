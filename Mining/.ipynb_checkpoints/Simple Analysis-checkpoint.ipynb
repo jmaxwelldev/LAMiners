{
 "cells": [
  {
   "cell_type": "markdown",
   "metadata": {},
   "source": [
    "# Simple Analysis of Crime Data\n",
    "---\n",
    "Means, Modes, Frequencies, etc.\n",
    "\n",
    "** Author(s):** Eoin Doherty"
   ]
  },
  {
   "cell_type": "code",
   "execution_count": 67,
   "metadata": {
    "collapsed": true
   },
   "outputs": [],
   "source": [
    "import numpy as np\n",
    "import pandas as pd\n",
    "import scipy.stats as stats\n",
    "import matplotlib.pyplot as plt\n",
    "import matplotlib\n",
    "from datetime import datetime\n",
    "\n",
    "%matplotlib inline"
   ]
  },
  {
   "cell_type": "code",
   "execution_count": 3,
   "metadata": {
    "collapsed": true
   },
   "outputs": [],
   "source": [
    "# Add other paths here\n",
    "crimeData = '../Data/Crime_Data_Clean_Consolidated.csv'\n",
    "weatherData = '../Data/Weather_Final.csv'\n",
    "unemploymentData = '../Data/UnemploymentRate.csv'\n",
    "\n",
    "premiseData = '../Data/PremiseDescriptions.csv'\n",
    "statusData = '../Data/StatusCodeDescriptions.csv'\n",
    "areaData = '../Data/AreaDescriptions.csv'\n",
    "weaponData = '../Data/WeaponDescriptions.csv'\n",
    "crimeCodeData = '../Data/CrimeCodeDescriptions.csv'"
   ]
  },
  {
   "cell_type": "markdown",
   "metadata": {},
   "source": [
    "Load every dataset.\n",
    "\n",
    "Each dataframe is in a separate cell if you need to reload it later. "
   ]
  },
  {
   "cell_type": "code",
   "execution_count": 4,
   "metadata": {
    "collapsed": true
   },
   "outputs": [],
   "source": [
    "dfCrime = pd.read_csv(crimeData).drop([\"Unnamed: 0\"], axis=1)"
   ]
  },
  {
   "cell_type": "code",
   "execution_count": 5,
   "metadata": {
    "collapsed": true
   },
   "outputs": [],
   "source": [
    "dfWeath = pd.read_csv(weatherData)"
   ]
  },
  {
   "cell_type": "code",
   "execution_count": 6,
   "metadata": {
    "collapsed": true
   },
   "outputs": [],
   "source": [
    "dfUnemploy = pd.read_csv(unemploymentData)"
   ]
  },
  {
   "cell_type": "code",
   "execution_count": 7,
   "metadata": {
    "collapsed": true
   },
   "outputs": [],
   "source": [
    "dfPremise = pd.read_csv(premiseData)\n",
    "dfStatus = pd.read_csv(statusData)\n",
    "dfArea = pd.read_csv(areaData)\n",
    "dfWeapon = pd.read_csv(weaponData)\n",
    "dfCC = pd.read_csv(crimeCodeData)"
   ]
  },
  {
   "cell_type": "code",
   "execution_count": 8,
   "metadata": {
    "collapsed": true
   },
   "outputs": [],
   "source": [
    "dfCrime[\"DateTimeOccurred\"] = dfCrime.apply(lambda row: datetime.strptime(row[\"DateOccurred\"] + ' ' + row[\"TimeOccurred\"], \"%Y-%m-%d %H:%M:%S\"), axis=1)"
   ]
  },
  {
   "cell_type": "code",
   "execution_count": 9,
   "metadata": {
    "collapsed": true
   },
   "outputs": [],
   "source": [
    "dfCrime[\"DateTimeReported\"] = dfCrime.apply(lambda row: datetime.strptime(row[\"DateReported\"], \"%Y-%m-%d\"), axis=1)"
   ]
  },
  {
   "cell_type": "code",
   "execution_count": 10,
   "metadata": {},
   "outputs": [
    {
     "data": {
      "text/html": [
       "<div>\n",
       "<style>\n",
       "    .dataframe thead tr:only-child th {\n",
       "        text-align: right;\n",
       "    }\n",
       "\n",
       "    .dataframe thead th {\n",
       "        text-align: left;\n",
       "    }\n",
       "\n",
       "    .dataframe tbody tr th {\n",
       "        vertical-align: top;\n",
       "    }\n",
       "</style>\n",
       "<table border=\"1\" class=\"dataframe\">\n",
       "  <thead>\n",
       "    <tr style=\"text-align: right;\">\n",
       "      <th></th>\n",
       "      <th>ID</th>\n",
       "      <th>DateReported</th>\n",
       "      <th>DateOccurred</th>\n",
       "      <th>TimeOccurred</th>\n",
       "      <th>AreaID</th>\n",
       "      <th>ReportingDistrict</th>\n",
       "      <th>CrimeCode</th>\n",
       "      <th>MOCodes</th>\n",
       "      <th>VictimAge</th>\n",
       "      <th>VictimSex</th>\n",
       "      <th>...</th>\n",
       "      <th>DailySunrise</th>\n",
       "      <th>DailySunset</th>\n",
       "      <th>DailyPrecip</th>\n",
       "      <th>DailySnowfall</th>\n",
       "      <th>DailySnowDepth</th>\n",
       "      <th>DailyAverageWindSpeed</th>\n",
       "      <th>DailyAverageHeatIndex</th>\n",
       "      <th>night</th>\n",
       "      <th>DateTimeOccurred</th>\n",
       "      <th>DateTimeReported</th>\n",
       "    </tr>\n",
       "  </thead>\n",
       "  <tbody>\n",
       "    <tr>\n",
       "      <th>0</th>\n",
       "      <td>180204779</td>\n",
       "      <td>2018-01-17</td>\n",
       "      <td>2010-01-01</td>\n",
       "      <td>00:01:00</td>\n",
       "      <td>2</td>\n",
       "      <td>245</td>\n",
       "      <td>813</td>\n",
       "      <td>0510 0522 0558 1258 0602</td>\n",
       "      <td>-1</td>\n",
       "      <td>F</td>\n",
       "      <td>...</td>\n",
       "      <td>06:59:00</td>\n",
       "      <td>16:56:00</td>\n",
       "      <td>0.0</td>\n",
       "      <td>0.0</td>\n",
       "      <td>0.0</td>\n",
       "      <td>0.9</td>\n",
       "      <td>82.6</td>\n",
       "      <td>1</td>\n",
       "      <td>2010-01-01 00:01:00</td>\n",
       "      <td>2018-01-17</td>\n",
       "    </tr>\n",
       "    <tr>\n",
       "      <th>1</th>\n",
       "      <td>172020383</td>\n",
       "      <td>2017-11-12</td>\n",
       "      <td>2010-01-01</td>\n",
       "      <td>00:01:00</td>\n",
       "      <td>20</td>\n",
       "      <td>2074</td>\n",
       "      <td>354</td>\n",
       "      <td>0100</td>\n",
       "      <td>51</td>\n",
       "      <td>F</td>\n",
       "      <td>...</td>\n",
       "      <td>06:59:00</td>\n",
       "      <td>16:56:00</td>\n",
       "      <td>0.0</td>\n",
       "      <td>0.0</td>\n",
       "      <td>0.0</td>\n",
       "      <td>0.9</td>\n",
       "      <td>82.6</td>\n",
       "      <td>1</td>\n",
       "      <td>2010-01-01 00:01:00</td>\n",
       "      <td>2017-11-12</td>\n",
       "    </tr>\n",
       "    <tr>\n",
       "      <th>2</th>\n",
       "      <td>171913109</td>\n",
       "      <td>2017-06-13</td>\n",
       "      <td>2010-01-01</td>\n",
       "      <td>00:01:00</td>\n",
       "      <td>19</td>\n",
       "      <td>1994</td>\n",
       "      <td>354</td>\n",
       "      <td>0377 1822</td>\n",
       "      <td>42</td>\n",
       "      <td>F</td>\n",
       "      <td>...</td>\n",
       "      <td>06:59:00</td>\n",
       "      <td>16:56:00</td>\n",
       "      <td>0.0</td>\n",
       "      <td>0.0</td>\n",
       "      <td>0.0</td>\n",
       "      <td>0.9</td>\n",
       "      <td>82.6</td>\n",
       "      <td>1</td>\n",
       "      <td>2010-01-01 00:01:00</td>\n",
       "      <td>2017-06-13</td>\n",
       "    </tr>\n",
       "    <tr>\n",
       "      <th>3</th>\n",
       "      <td>172013071</td>\n",
       "      <td>2017-06-28</td>\n",
       "      <td>2010-01-01</td>\n",
       "      <td>00:01:00</td>\n",
       "      <td>20</td>\n",
       "      <td>2025</td>\n",
       "      <td>820</td>\n",
       "      <td>1257 0550</td>\n",
       "      <td>-1</td>\n",
       "      <td>F</td>\n",
       "      <td>...</td>\n",
       "      <td>06:59:00</td>\n",
       "      <td>16:56:00</td>\n",
       "      <td>0.0</td>\n",
       "      <td>0.0</td>\n",
       "      <td>0.0</td>\n",
       "      <td>0.9</td>\n",
       "      <td>82.6</td>\n",
       "      <td>1</td>\n",
       "      <td>2010-01-01 00:01:00</td>\n",
       "      <td>2017-06-28</td>\n",
       "    </tr>\n",
       "    <tr>\n",
       "      <th>4</th>\n",
       "      <td>171809308</td>\n",
       "      <td>2017-04-05</td>\n",
       "      <td>2010-01-01</td>\n",
       "      <td>00:01:00</td>\n",
       "      <td>18</td>\n",
       "      <td>1891</td>\n",
       "      <td>760</td>\n",
       "      <td>0515 0913 1817 1820 0516 0500 0506</td>\n",
       "      <td>18</td>\n",
       "      <td>F</td>\n",
       "      <td>...</td>\n",
       "      <td>06:59:00</td>\n",
       "      <td>16:56:00</td>\n",
       "      <td>0.0</td>\n",
       "      <td>0.0</td>\n",
       "      <td>0.0</td>\n",
       "      <td>0.9</td>\n",
       "      <td>82.6</td>\n",
       "      <td>1</td>\n",
       "      <td>2010-01-01 00:01:00</td>\n",
       "      <td>2017-04-05</td>\n",
       "    </tr>\n",
       "  </tbody>\n",
       "</table>\n",
       "<p>5 rows × 43 columns</p>\n",
       "</div>"
      ],
      "text/plain": [
       "          ID DateReported DateOccurred TimeOccurred  AreaID  \\\n",
       "0  180204779   2018-01-17   2010-01-01     00:01:00       2   \n",
       "1  172020383   2017-11-12   2010-01-01     00:01:00      20   \n",
       "2  171913109   2017-06-13   2010-01-01     00:01:00      19   \n",
       "3  172013071   2017-06-28   2010-01-01     00:01:00      20   \n",
       "4  171809308   2017-04-05   2010-01-01     00:01:00      18   \n",
       "\n",
       "   ReportingDistrict  CrimeCode                             MOCodes  \\\n",
       "0                245        813            0510 0522 0558 1258 0602   \n",
       "1               2074        354                                0100   \n",
       "2               1994        354                           0377 1822   \n",
       "3               2025        820                           1257 0550   \n",
       "4               1891        760  0515 0913 1817 1820 0516 0500 0506   \n",
       "\n",
       "   VictimAge VictimSex       ...        DailySunrise  DailySunset  \\\n",
       "0         -1         F       ...            06:59:00     16:56:00   \n",
       "1         51         F       ...            06:59:00     16:56:00   \n",
       "2         42         F       ...            06:59:00     16:56:00   \n",
       "3         -1         F       ...            06:59:00     16:56:00   \n",
       "4         18         F       ...            06:59:00     16:56:00   \n",
       "\n",
       "   DailyPrecip DailySnowfall  DailySnowDepth  DailyAverageWindSpeed  \\\n",
       "0          0.0           0.0             0.0                    0.9   \n",
       "1          0.0           0.0             0.0                    0.9   \n",
       "2          0.0           0.0             0.0                    0.9   \n",
       "3          0.0           0.0             0.0                    0.9   \n",
       "4          0.0           0.0             0.0                    0.9   \n",
       "\n",
       "   DailyAverageHeatIndex  night    DateTimeOccurred DateTimeReported  \n",
       "0                   82.6      1 2010-01-01 00:01:00       2018-01-17  \n",
       "1                   82.6      1 2010-01-01 00:01:00       2017-11-12  \n",
       "2                   82.6      1 2010-01-01 00:01:00       2017-06-13  \n",
       "3                   82.6      1 2010-01-01 00:01:00       2017-06-28  \n",
       "4                   82.6      1 2010-01-01 00:01:00       2017-04-05  \n",
       "\n",
       "[5 rows x 43 columns]"
      ]
     },
     "execution_count": 10,
     "metadata": {},
     "output_type": "execute_result"
    }
   ],
   "source": [
    "dfCrime.head()"
   ]
  },
  {
   "cell_type": "code",
   "execution_count": 11,
   "metadata": {},
   "outputs": [
    {
     "data": {
      "text/plain": [
       "['ID',\n",
       " 'DateReported',\n",
       " 'DateOccurred',\n",
       " 'TimeOccurred',\n",
       " 'AreaID',\n",
       " 'ReportingDistrict',\n",
       " 'CrimeCode',\n",
       " 'MOCodes',\n",
       " 'VictimAge',\n",
       " 'VictimSex',\n",
       " 'VictimDescent',\n",
       " 'PremiseCode',\n",
       " 'WeaponUsedCode',\n",
       " 'StatusCode',\n",
       " 'CrimeCode1',\n",
       " 'CrimeCode2',\n",
       " 'CrimeCode3',\n",
       " 'CrimeCode4',\n",
       " 'Address',\n",
       " 'CrossStreet',\n",
       " 'Location',\n",
       " 'UnemploymentRate',\n",
       " 'WeatherDate',\n",
       " 'ReportType',\n",
       " 'HourlyVisibility',\n",
       " 'HourlyDryBulbTempF',\n",
       " 'HourlyRelativeHumidity',\n",
       " 'HourlyPrecip',\n",
       " 'HourlyHeatIndex',\n",
       " 'DailyMaximumDryBulbTemp',\n",
       " 'DailyMinimumDryBulbTemp',\n",
       " 'DailyAverageDryBulbTemp',\n",
       " 'DailyAverageRelativeHumidity',\n",
       " 'DailySunrise',\n",
       " 'DailySunset',\n",
       " 'DailyPrecip',\n",
       " 'DailySnowfall',\n",
       " 'DailySnowDepth',\n",
       " 'DailyAverageWindSpeed',\n",
       " 'DailyAverageHeatIndex',\n",
       " 'night',\n",
       " 'DateTimeOccurred',\n",
       " 'DateTimeReported']"
      ]
     },
     "execution_count": 11,
     "metadata": {},
     "output_type": "execute_result"
    }
   ],
   "source": [
    "list(dfCrime)"
   ]
  },
  {
   "cell_type": "markdown",
   "metadata": {},
   "source": [
    "### Averages and Stuff\n",
    "---\n",
    "Some averages to establish a sort of baseline."
   ]
  },
  {
   "cell_type": "code",
   "execution_count": 12,
   "metadata": {
    "collapsed": true
   },
   "outputs": [],
   "source": [
    "trueHI = dfCrime.loc[dfCrime[\"DailyAverageHeatIndex\"] < 999][\"DailyAverageHeatIndex\"]\n",
    "\n",
    "realTrueHI = dfWeath.loc[dfWeath[\"DailyAverageHeatIndex\"] < 999][\"DailyAverageHeatIndex\"]\n",
    "\n",
    "trueAges = dfCrime[\"VictimAge\"].loc[dfCrime[\"VictimAge\"] != -1];"
   ]
  },
  {
   "cell_type": "code",
   "execution_count": 13,
   "metadata": {},
   "outputs": [
    {
     "name": "stdout",
     "output_type": "stream",
     "text": [
      "Average victim age: 35.958015199688276\n",
      "\"Average\" unemployment rate: 8.649744172380776\n",
      "\"Average\" Heat Index: 77.65726601980991\n"
     ]
    }
   ],
   "source": [
    "meanVictimAge = np.mean(trueAges)\n",
    "meanUnemploymentRate = np.mean(dfCrime[\"UnemploymentRate\"])\n",
    "meanHI = np.mean(trueHI)\n",
    "\n",
    "print(\"Average victim age:\", meanVictimAge)\n",
    "print(\"\\\"Average\\\" unemployment rate:\", meanUnemploymentRate)\n",
    "print(\"\\\"Average\\\" Heat Index:\", meanHI)"
   ]
  },
  {
   "cell_type": "code",
   "execution_count": 14,
   "metadata": {},
   "outputs": [
    {
     "data": {
      "image/png": "[encoded data removed]",
      "text/plain": [
       "<matplotlib.figure.Figure at 0x11d7ce358>"
      ]
     },
     "metadata": {},
     "output_type": "display_data"
    }
   ],
   "source": [
    "fig, ax = plt.subplots(figsize=(7,5))\n",
    "ax.hist(trueAges, edgecolor=\"white\")\n",
    "ax.grid(alpha=0.25)\n",
    "ax.set_axisbelow(True)\n",
    "ax.set_title(\"Distribution of Victim Ages\")\n",
    "ax.set_xlabel(\"Victim Age\")\n",
    "ax.set_ylabel(\"Count\")\n",
    "plt.show()"
   ]
  },
  {
   "cell_type": "markdown",
   "metadata": {},
   "source": [
    "Now to compare them to the means of all of the data"
   ]
  },
  {
   "cell_type": "code",
   "execution_count": 15,
   "metadata": {},
   "outputs": [
    {
     "name": "stdout",
     "output_type": "stream",
     "text": [
      "Average unemployment rate: 7.652976190476189\n",
      "Average Heat Index: 77.30146660262312\n"
     ]
    }
   ],
   "source": [
    "realMeanUR = np.mean(dfUnemploy[\"UnemploymentRate\"])\n",
    "realMeanHI = np.mean(realTrueHI)\n",
    "\n",
    "print(\"Average unemployment rate:\", realMeanUR)\n",
    "print(\"Average Heat Index:\", realMeanHI)"
   ]
  },
  {
   "cell_type": "code",
   "execution_count": 16,
   "metadata": {},
   "outputs": [
    {
     "data": {
      "image/png": "[encoded data removed]",
      "text/plain": [
       "<matplotlib.figure.Figure at 0x11d7b9f98>"
      ]
     },
     "metadata": {},
     "output_type": "display_data"
    }
   ],
   "source": [
    "fig, ax = plt.subplots(figsize=(7,5))\n",
    "ax.hist(np.array(realTrueHI), edgecolor=\"white\")\n",
    "ax.set_title(\"Distribution of Heat Index in LA\")\n",
    "ax.grid(alpha=0.25)\n",
    "ax.set_axisbelow(True)\n",
    "ax.set_xlabel(\"Heat Index (in Fahrenheit)\")\n",
    "ax.set_ylabel(\"Count\")\n",
    "plt.show()"
   ]
  },
  {
   "cell_type": "markdown",
   "metadata": {
    "collapsed": true
   },
   "source": [
    "The averages taken from the crime data are skewed since not every day is represented equally.\n",
    "\n",
    "The average unemployment rate is about 1 percent higher in the crime data than the average from the unemployment data. The heat index from the crime data and the weather data is about the same. This suggests that crime increases with unemployment rate, and weather does not have mush of an effect on crime."
   ]
  },
  {
   "cell_type": "markdown",
   "metadata": {},
   "source": [
    "## Frequencies\n",
    "---\n",
    "The frequencies of some nominal data from the crime dataset (using percent for better interpretation at a glance)."
   ]
  },
  {
   "cell_type": "code",
   "execution_count": 17,
   "metadata": {},
   "outputs": [
    {
     "data": {
      "text/plain": [
       "1660884"
      ]
     },
     "execution_count": 17,
     "metadata": {},
     "output_type": "execute_result"
    }
   ],
   "source": [
    "crimeLen = len(dfCrime)\n",
    "crimeLen"
   ]
  },
  {
   "cell_type": "markdown",
   "metadata": {},
   "source": [
    "Some information about the area and victims"
   ]
  },
  {
   "cell_type": "code",
   "execution_count": 18,
   "metadata": {
    "collapsed": true
   },
   "outputs": [],
   "source": [
    "areaIDFreq = dfCrime[\"AreaID\"].value_counts()/crimeLen * 100"
   ]
  },
  {
   "cell_type": "code",
   "execution_count": 19,
   "metadata": {
    "collapsed": true
   },
   "outputs": [],
   "source": [
    "premiseFreq = dfCrime[\"PremiseCode\"].value_counts()/crimeLen * 100"
   ]
  },
  {
   "cell_type": "code",
   "execution_count": 20,
   "metadata": {
    "collapsed": true
   },
   "outputs": [],
   "source": [
    "victimDescFreq = dfCrime[\"VictimDescent\"].value_counts()/crimeLen * 100\n",
    "victimSexFreq = dfCrime[\"VictimSex\"].value_counts()/crimeLen * 100"
   ]
  },
  {
   "cell_type": "code",
   "execution_count": 21,
   "metadata": {
    "collapsed": true
   },
   "outputs": [],
   "source": [
    "# Crime code counts\n",
    "crimeCodeCounts = dfCrime[\"CrimeCode\"].value_counts()\n",
    "crimeCode1Counts = dfCrime[\"CrimeCode1\"].value_counts()\n",
    "crimeCode2Counts = dfCrime[\"CrimeCode2\"].value_counts()\n",
    "crimeCode3Counts = dfCrime[\"CrimeCode3\"].value_counts()\n",
    "crimeCode4Counts = dfCrime[\"CrimeCode4\"].value_counts()\n",
    "\n",
    "crimeCodeFreqs = pd.concat([dfCrime[\"CrimeCode\"], dfCrime[\"CrimeCode1\"], dfCrime[\"CrimeCode2\"], dfCrime[\"CrimeCode3\"], dfCrime[\"CrimeCode4\"]]).value_counts()/(crimeLen*5) * 100\n"
   ]
  },
  {
   "cell_type": "code",
   "execution_count": 22,
   "metadata": {
    "collapsed": true
   },
   "outputs": [],
   "source": [
    "# Status code counts\n",
    "statusCodeFreq = dfCrime[\"StatusCode\"].value_counts()/crimeLen * 100"
   ]
  },
  {
   "cell_type": "code",
   "execution_count": 23,
   "metadata": {
    "collapsed": true
   },
   "outputs": [],
   "source": [
    "# Weapon code counts\n",
    "weaponCodeFreq = dfCrime[\"WeaponUsedCode\"].value_counts()/crimeLen * 100"
   ]
  },
  {
   "cell_type": "code",
   "execution_count": 24,
   "metadata": {},
   "outputs": [
    {
     "name": "stdout",
     "output_type": "stream",
     "text": [
      "0    54.856631\n",
      "1    45.143369\n",
      "Name: night, dtype: float64\n"
     ]
    }
   ],
   "source": [
    "isNightFreq = dfCrime[\"night\"].value_counts()/crimeLen * 100\n",
    "print(isNightFreq)"
   ]
  },
  {
   "cell_type": "markdown",
   "metadata": {},
   "source": [
    "More crimes occur during the day."
   ]
  },
  {
   "cell_type": "markdown",
   "metadata": {},
   "source": [
    "### Translating into English"
   ]
  },
  {
   "cell_type": "markdown",
   "metadata": {},
   "source": [
    "Translate the areaIDs"
   ]
  },
  {
   "cell_type": "code",
   "execution_count": 25,
   "metadata": {},
   "outputs": [
    {
     "data": {
      "text/html": [
       "<div>\n",
       "<style>\n",
       "    .dataframe thead tr:only-child th {\n",
       "        text-align: right;\n",
       "    }\n",
       "\n",
       "    .dataframe thead th {\n",
       "        text-align: left;\n",
       "    }\n",
       "\n",
       "    .dataframe tbody tr th {\n",
       "        vertical-align: top;\n",
       "    }\n",
       "</style>\n",
       "<table border=\"1\" class=\"dataframe\">\n",
       "  <thead>\n",
       "    <tr style=\"text-align: right;\">\n",
       "      <th></th>\n",
       "      <th>AreaID</th>\n",
       "      <th>AreaName</th>\n",
       "    </tr>\n",
       "  </thead>\n",
       "  <tbody>\n",
       "    <tr>\n",
       "      <th>0</th>\n",
       "      <td>10</td>\n",
       "      <td>West Valley</td>\n",
       "    </tr>\n",
       "    <tr>\n",
       "      <th>1</th>\n",
       "      <td>14</td>\n",
       "      <td>Pacific</td>\n",
       "    </tr>\n",
       "    <tr>\n",
       "      <th>2</th>\n",
       "      <td>15</td>\n",
       "      <td>N Hollywood</td>\n",
       "    </tr>\n",
       "    <tr>\n",
       "      <th>3</th>\n",
       "      <td>18</td>\n",
       "      <td>Southeast</td>\n",
       "    </tr>\n",
       "    <tr>\n",
       "      <th>4</th>\n",
       "      <td>5</td>\n",
       "      <td>Harbor</td>\n",
       "    </tr>\n",
       "  </tbody>\n",
       "</table>\n",
       "</div>"
      ],
      "text/plain": [
       "   AreaID     AreaName\n",
       "0      10  West Valley\n",
       "1      14      Pacific\n",
       "2      15  N Hollywood\n",
       "3      18    Southeast\n",
       "4       5       Harbor"
      ]
     },
     "execution_count": 25,
     "metadata": {},
     "output_type": "execute_result"
    }
   ],
   "source": [
    "dfArea.head()"
   ]
  },
  {
   "cell_type": "code",
   "execution_count": 26,
   "metadata": {},
   "outputs": [
    {
     "data": {
      "text/plain": [
       "77th Street    6.967615\n",
       "Southwest      6.452347\n",
       "N Hollywood    5.439272\n",
       "Pacific        5.286643\n",
       "Southeast      5.265449\n",
       "Mission        5.044302\n",
       "Northeast      4.816110\n",
       "Van Nuys       4.772880\n",
       "Newton         4.701292\n",
       "Devonshire     4.667514\n",
       "Topanga        4.635303\n",
       "Hollywood      4.582921\n",
       "Harbor         4.451846\n",
       "Olympic        4.446247\n",
       "Central        4.283863\n",
       "West Valley    4.272845\n",
       "Rampart        4.223414\n",
       "West LA        4.179040\n",
       "Wilshire       4.034237\n",
       "Foothill       3.834886\n",
       "Hollenbeck     3.641976\n",
       "dtype: float64"
      ]
     },
     "execution_count": 26,
     "metadata": {},
     "output_type": "execute_result"
    }
   ],
   "source": [
    "d = dict(areaIDFreq)\n",
    "readableAreaID = {}\n",
    "\n",
    "for k in d.keys():\n",
    "    name = list(dfArea.loc[dfArea[\"AreaID\"] == k][\"AreaName\"])[0]\n",
    "    readableAreaID[name] = d[k]\n",
    "pd.Series(readableAreaID).sort_values(ascending = False)"
   ]
  },
  {
   "cell_type": "markdown",
   "metadata": {},
   "source": [
    "Translate the premise codes"
   ]
  },
  {
   "cell_type": "code",
   "execution_count": 27,
   "metadata": {},
   "outputs": [
    {
     "data": {
      "text/plain": [
       "STREET                                          22.273922\n",
       "SINGLE FAMILY DWELLING                          20.633349\n",
       "MULTI-UNIT DWELLING (APARTMENT, DUPLEX, ETC)    12.869291\n",
       "PARKING LOT                                      7.117053\n",
       "SIDEWALK                                         4.992341\n",
       "OTHER BUSINESS                                   4.480325\n",
       "VEHICLE, PASSENGER/TRUCK                         3.808695\n",
       "DRIVEWAY                                         2.050294\n",
       "GARAGE/CARPORT                                   1.785555\n",
       "DEPARTMENT STORE                                 1.400820\n",
       "RESTAURANT/FAST FOOD                             1.339287\n",
       "MARKET                                           1.034690\n",
       "OTHER STORE                                      0.793553\n",
       "PARKING UNDERGROUND/BUILDING                     0.699146\n",
       "YARD (RESIDENTIAL/BUSINESS)                      0.699146\n",
       "PARK/PLAYGROUND                                  0.685779\n",
       "OTHER PREMISE                                    0.668560\n",
       "HIGH SCHOOL                                      0.649413\n",
       "ALLEY                                            0.624246\n",
       "DRUG STORE                                       0.509969\n",
       "GAS STATION                                      0.463307\n",
       "HOTEL                                            0.441151\n",
       "OTHER RESIDENCE                                  0.422245\n",
       "JUNIOR HIGH SCHOOL                               0.420920\n",
       "ELEMENTARY SCHOOL                                0.378293\n",
       "TRANSPORTATION FACILITY (AIRPORT)                0.318927\n",
       "MINI-MART                                        0.318445\n",
       "BANK                                             0.309173\n",
       "OFFICE BUILDING/OFFICE                           0.308390\n",
       "MOTEL                                            0.250168\n",
       "                                                  ...    \n",
       "MTA - GOLD LINE - INDIANA                        0.000301\n",
       "SEWAGE FACILITY/PIPE                             0.000301\n",
       "MTA - GOLD LINE - MARIACHI PLAZA                 0.000301\n",
       "BANK DROP BOX/MONEY DROP-OUTSIDE OF BANK*        0.000301\n",
       "REDLINE SUBWAY MEZZANINE                         0.000301\n",
       "MTA - EXPO LINE - EXPO/SEPULVEDA                 0.000241\n",
       "MTA - PURPLE LINE - WILSHIRE/VERMONT             0.000241\n",
       "MTA - BLUE LINE - VERNON                         0.000241\n",
       "HOCKEY RINK/ICE HOCKEY                           0.000241\n",
       "MTA - GOLD LINE - SOTO                           0.000241\n",
       "MTA - EXPO LINE - LATTC/ORTHO INSTITUTE          0.000181\n",
       "TRAM/STREETCAR(BOXLIKE WAG ON RAILS)*            0.000181\n",
       "MTA - ORANGE LINE - RESEDA                       0.000181\n",
       "SURPLUS SURVIVAL STORE                           0.000181\n",
       "MTA - SILVER LINE - UNION STATION                0.000120\n",
       "MTA - EXPO LINE - EXPO PARK/USC                  0.000120\n",
       "MTA - GOLD LINE - HERITAGE SQ                    0.000120\n",
       "MTA - GOLD LINE - PICO/ALISO                     0.000120\n",
       "NUCLEAR FACILITY                                 0.000060\n",
       "TACTICAL SIGNIFICANCE                            0.000060\n",
       "MTA - ORANGE LINE - TAMPA                        0.000060\n",
       "REDLINE SUBWAY TUNNEL                            0.000060\n",
       "MTA - PURPLE LINE - WESTLAKE/MACARTHUR PARK      0.000060\n",
       "NaN                                              0.000060\n",
       "MTA - SILVER LINE - HARBOR FWY                   0.000060\n",
       "MTA - GOLD LINE - LITTLE TOKYO/ARTS DISTRICT     0.000060\n",
       "MTA - ORANGE LINE - SEPULVEDA                    0.000060\n",
       "DEPT OF DEFENSE FACILITY                         0.000060\n",
       "RETIRED (DUPLICATE) DO NOT USE THIS CODE         0.000060\n",
       "GREEN LINE (I-105 FWY LEVEL TRAIN)               0.000060\n",
       "Length: 242, dtype: float64"
      ]
     },
     "execution_count": 27,
     "metadata": {},
     "output_type": "execute_result"
    }
   ],
   "source": [
    "d = dict(premiseFreq)\n",
    "readablePremiseFreq = {}\n",
    "\n",
    "for k in d.keys():\n",
    "    name = list(dfPremise.loc[dfPremise[\"PremiseCode\"] == k][\"PremiseDescription\"])[0]\n",
    "    readablePremiseFreq[name] = d[k]\n",
    "pd.Series(readablePremiseFreq).sort_values(ascending = False)"
   ]
  },
  {
   "cell_type": "markdown",
   "metadata": {},
   "source": [
    "Translate the crime codes"
   ]
  },
  {
   "cell_type": "code",
   "execution_count": 28,
   "metadata": {
    "collapsed": true
   },
   "outputs": [],
   "source": [
    "d = dict(crimeCodeFreqs)\n",
    "readableCC = {}\n",
    "for k in d.keys():\n",
    "    try:\n",
    "        name = list(dfCC.loc[dfCC[\"CrimeCode\"] == k][\"CrimeCodeDescription\"])[0]\n",
    "    except IndexError:\n",
    "        if k == -1:\n",
    "            name = \"UNDEFINED\"\n",
    "        else:\n",
    "            name = str(k)\n",
    "    readableCC[name] = d[k]\n",
    "crimes = pd.Series(readableCC).sort_values(ascending = False)"
   ]
  },
  {
   "cell_type": "markdown",
   "metadata": {},
   "source": [
    "Translate the status codes"
   ]
  },
  {
   "cell_type": "code",
   "execution_count": 29,
   "metadata": {},
   "outputs": [
    {
     "data": {
      "text/plain": [
       "Invest Cont     77.319488\n",
       "Adult Other     11.359011\n",
       "Adult Arrest    10.282055\n",
       "Juv Arrest       0.790182\n",
       "Juv Other        0.247459\n",
       "UNK              0.000060\n",
       "dtype: float64"
      ]
     },
     "execution_count": 29,
     "metadata": {},
     "output_type": "execute_result"
    }
   ],
   "source": [
    "d = dict(statusCodeFreq)\n",
    "readableStatusCodeFreq = {}\n",
    "\n",
    "for k in d.keys():\n",
    "    name = list(dfStatus.loc[dfStatus[\"StatusCode\"] == k][\"StatusDescription\"])[0]\n",
    "    readableStatusCodeFreq[name] = d[k]\n",
    "pd.Series(readableStatusCodeFreq).sort_values(ascending = False)"
   ]
  },
  {
   "cell_type": "markdown",
   "metadata": {},
   "source": [
    "Translate the weapon codes"
   ]
  },
  {
   "cell_type": "code",
   "execution_count": 30,
   "metadata": {},
   "outputs": [
    {
     "data": {
      "text/html": [
       "<div>\n",
       "<style>\n",
       "    .dataframe thead tr:only-child th {\n",
       "        text-align: right;\n",
       "    }\n",
       "\n",
       "    .dataframe thead th {\n",
       "        text-align: left;\n",
       "    }\n",
       "\n",
       "    .dataframe tbody tr th {\n",
       "        vertical-align: top;\n",
       "    }\n",
       "</style>\n",
       "<table border=\"1\" class=\"dataframe\">\n",
       "  <thead>\n",
       "    <tr style=\"text-align: right;\">\n",
       "      <th></th>\n",
       "      <th>WeaponUsedCode</th>\n",
       "      <th>WeaponDescription</th>\n",
       "    </tr>\n",
       "  </thead>\n",
       "  <tbody>\n",
       "    <tr>\n",
       "      <th>0</th>\n",
       "      <td>-1</td>\n",
       "      <td>NaN</td>\n",
       "    </tr>\n",
       "    <tr>\n",
       "      <th>1</th>\n",
       "      <td>400</td>\n",
       "      <td>STRONG-ARM (HANDS, FIST, FEET OR BODILY FORCE)</td>\n",
       "    </tr>\n",
       "    <tr>\n",
       "      <th>2</th>\n",
       "      <td>102</td>\n",
       "      <td>HAND GUN</td>\n",
       "    </tr>\n",
       "    <tr>\n",
       "      <th>3</th>\n",
       "      <td>106</td>\n",
       "      <td>UNKNOWN FIREARM</td>\n",
       "    </tr>\n",
       "    <tr>\n",
       "      <th>4</th>\n",
       "      <td>500</td>\n",
       "      <td>UNKNOWN WEAPON/OTHER WEAPON</td>\n",
       "    </tr>\n",
       "  </tbody>\n",
       "</table>\n",
       "</div>"
      ],
      "text/plain": [
       "   WeaponUsedCode                               WeaponDescription\n",
       "0              -1                                             NaN\n",
       "1             400  STRONG-ARM (HANDS, FIST, FEET OR BODILY FORCE)\n",
       "2             102                                        HAND GUN\n",
       "3             106                                 UNKNOWN FIREARM\n",
       "4             500                     UNKNOWN WEAPON/OTHER WEAPON"
      ]
     },
     "execution_count": 30,
     "metadata": {},
     "output_type": "execute_result"
    }
   ],
   "source": [
    "dfWeapon.head()"
   ]
  },
  {
   "cell_type": "code",
   "execution_count": 31,
   "metadata": {},
   "outputs": [
    {
     "data": {
      "text/plain": [
       "STRONG-ARM (HANDS, FIST, FEET OR BODILY FORCE)    20.148848\n",
       "VERBAL THREAT                                      2.750222\n",
       "UNKNOWN WEAPON/OTHER WEAPON                        2.584226\n",
       "HAND GUN                                           1.595957\n",
       "SEMI-AUTOMATIC PISTOL                              0.630869\n",
       "KNIFE WITH BLADE 6INCHES OR LESS                   0.592516\n",
       "OTHER KNIFE                                        0.439766\n",
       "UNKNOWN FIREARM                                    0.378413\n",
       "VEHICLE                                            0.337230\n",
       "REVOLVER                                           0.286052\n",
       "BOTTLE                                             0.239330\n",
       "BLUNT INSTRUMENT                                   0.210430\n",
       "ROCK/THROWN OBJECT                                 0.205674\n",
       "STICK                                              0.204650\n",
       "CLUB/BAT                                           0.198629\n",
       "FOLDING KNIFE                                      0.196161\n",
       "SIMULATED GUN                                      0.178760\n",
       "KITCHEN KNIFE                                      0.176352\n",
       "MACE/PEPPER SPRAY                                  0.171716\n",
       "KNIFE WITH BLADE OVER 6 INCHES IN LENGTH           0.155459\n",
       "BELT FLAILING INSTRUMENT/CHAIN                     0.128365\n",
       "AIR PISTOL/REVOLVER/RIFLE/BB GUN                   0.116203\n",
       "OTHER CUTTING INSTRUMENT                           0.104342\n",
       "PHYSICAL PRESENCE                                  0.084112\n",
       "PIPE/METAL PIPE                                    0.076766\n",
       "SCREWDRIVER                                        0.075622\n",
       "UNKNOWN TYPE CUTTING INSTRUMENT                    0.064785\n",
       "SHOTGUN                                            0.062617\n",
       "HAMMER                                             0.059547\n",
       "MACHETE                                            0.048649\n",
       "                                                    ...    \n",
       "ASSAULT WEAPON/UZI/AK47/ETC                        0.009212\n",
       "RAZOR                                              0.008851\n",
       "SWORD                                              0.008670\n",
       "ICE PICK                                           0.008128\n",
       "EXPLOXIVE DEVICE                                   0.008068\n",
       "SAWED OFF RIFLE/SHOTGUN                            0.008008\n",
       "HECKLER & KOCH 93 SEMIAUTOMATIC ASSAULT RIFLE      0.007526\n",
       "LIQUOR/DRUGS                                       0.006141\n",
       "DIRK/DAGGER                                        0.005720\n",
       "STARTER PISTOL/REVOLVER                            0.005660\n",
       "SEMI-AUTOMATIC RIFLE                               0.004757\n",
       "CLEAVER                                            0.003613\n",
       "ROPE/LIGATURE                                      0.003552\n",
       "BLACKJACK                                          0.003432\n",
       "BOWIE KNIFE                                        0.003071\n",
       "STRAIGHT RAZOR                                     0.002408\n",
       "MARTIAL ARTS WEAPONS                               0.001806\n",
       "SYRINGE                                            0.001746\n",
       "DOG/ANIMAL (SIC ANIMAL ON)                         0.001505\n",
       "BOW AND ARROW                                      0.001325\n",
       "UNK TYPE SEMIAUTOMATIC ASSAULT RIFLE               0.001144\n",
       "UZI SEMIAUTOMATIC ASSAULT RIFLE                    0.001144\n",
       "RELIC FIREARM                                      0.000843\n",
       "HECKLER & KOCH 91 SEMIAUTOMATIC ASSAULT RIFLE      0.000783\n",
       "MAC-10 SEMIAUTOMATIC ASSAULT WEAPON                0.000482\n",
       "ANTIQUE FIREARM                                    0.000421\n",
       "MAC-11 SEMIAUTOMATIC ASSAULT WEAPON                0.000301\n",
       "M1-1 SEMIAUTOMATIC ASSAULT RIFLE                   0.000181\n",
       "M-14 SEMIAUTOMATIC ASSAULT RIFLE                   0.000060\n",
       "NaN                                                0.000060\n",
       "Length: 80, dtype: float64"
      ]
     },
     "execution_count": 31,
     "metadata": {},
     "output_type": "execute_result"
    }
   ],
   "source": [
    "d = dict(weaponCodeFreq)\n",
    "readableWeaponCodeFreq = {}\n",
    "\n",
    "for k in d.keys():\n",
    "    name = list(dfWeapon.loc[dfWeapon[\"WeaponUsedCode\"] == k][\"WeaponDescription\"])[0]\n",
    "    readableWeaponCodeFreq[name] = d[k]\n",
    "pd.Series(readableWeaponCodeFreq).sort_values(ascending = False)"
   ]
  },
  {
   "cell_type": "markdown",
   "metadata": {},
   "source": [
    "The first of each month have the highest crime rates."
   ]
  },
  {
   "cell_type": "code",
   "execution_count": 32,
   "metadata": {},
   "outputs": [
    {
     "name": "stdout",
     "output_type": "stream",
     "text": [
      "568.4065708418891\n"
     ]
    },
    {
     "data": {
      "text/plain": [
       "2010-01-01    2154\n",
       "2011-01-01    2068\n",
       "2012-01-01    1658\n",
       "2013-01-01    1480\n",
       "2014-01-01    1350\n",
       "2015-01-01    1293\n",
       "2016-01-01    1164\n",
       "2012-06-01     999\n",
       "2017-01-01     959\n",
       "2010-06-01     944\n",
       "2011-04-01     939\n",
       "2010-10-01     933\n",
       "2015-11-01     900\n",
       "2011-06-01     885\n",
       "2013-11-01     880\n",
       "2015-08-01     869\n",
       "2015-06-01     868\n",
       "2011-08-01     867\n",
       "2012-10-01     867\n",
       "2017-09-01     862\n",
       "2016-08-01     859\n",
       "2013-03-01     859\n",
       "2016-11-01     856\n",
       "2016-04-01     855\n",
       "2016-09-01     854\n",
       "2016-02-01     849\n",
       "2012-08-01     848\n",
       "2015-05-01     845\n",
       "2011-10-01     845\n",
       "2012-05-01     844\n",
       "              ... \n",
       "2013-01-13     439\n",
       "2013-03-03     438\n",
       "2013-06-11     438\n",
       "2013-02-10     437\n",
       "2011-12-25     435\n",
       "2013-12-07     435\n",
       "2011-02-21     435\n",
       "2013-12-19     435\n",
       "2012-12-26     434\n",
       "2011-01-09     433\n",
       "2015-11-26     432\n",
       "2013-03-31     432\n",
       "2013-11-28     431\n",
       "2013-12-25     430\n",
       "2012-11-19     428\n",
       "2014-11-27     428\n",
       "2013-09-22     426\n",
       "2013-11-17     425\n",
       "2014-01-08     425\n",
       "2014-01-07     423\n",
       "2014-03-09     422\n",
       "2014-05-11     420\n",
       "2010-11-28     409\n",
       "2011-01-02     406\n",
       "2010-11-25     405\n",
       "2012-12-25     404\n",
       "2012-11-22     397\n",
       "2011-12-26     396\n",
       "2014-02-09     394\n",
       "2013-02-09     389\n",
       "Name: DateOccurred, Length: 2922, dtype: int64"
      ]
     },
     "execution_count": 32,
     "metadata": {},
     "output_type": "execute_result"
    }
   ],
   "source": [
    "dateCounts = dfCrime[\"DateOccurred\"].value_counts()\n",
    "meanCrimes = np.mean(dateCounts)\n",
    "print(meanCrimes)\n",
    "dateCounts"
   ]
  },
  {
   "cell_type": "markdown",
   "metadata": {},
   "source": [
    "### Correlations\n",
    "---"
   ]
  },
  {
   "cell_type": "code",
   "execution_count": 33,
   "metadata": {},
   "outputs": [
    {
     "data": {
      "text/html": [
       "<div>\n",
       "<style>\n",
       "    .dataframe thead tr:only-child th {\n",
       "        text-align: right;\n",
       "    }\n",
       "\n",
       "    .dataframe thead th {\n",
       "        text-align: left;\n",
       "    }\n",
       "\n",
       "    .dataframe tbody tr th {\n",
       "        vertical-align: top;\n",
       "    }\n",
       "</style>\n",
       "<table border=\"1\" class=\"dataframe\">\n",
       "  <thead>\n",
       "    <tr style=\"text-align: right;\">\n",
       "      <th></th>\n",
       "      <th>ID</th>\n",
       "      <th>DateReported</th>\n",
       "      <th>DateOccurred</th>\n",
       "      <th>TimeOccurred</th>\n",
       "      <th>AreaID</th>\n",
       "      <th>ReportingDistrict</th>\n",
       "      <th>CrimeCode</th>\n",
       "      <th>MOCodes</th>\n",
       "      <th>VictimAge</th>\n",
       "      <th>VictimSex</th>\n",
       "      <th>...</th>\n",
       "      <th>DailySunset</th>\n",
       "      <th>DailyPrecip</th>\n",
       "      <th>DailySnowfall</th>\n",
       "      <th>DailySnowDepth</th>\n",
       "      <th>DailyAverageWindSpeed</th>\n",
       "      <th>DailyAverageHeatIndex</th>\n",
       "      <th>night</th>\n",
       "      <th>DateTimeOccurred</th>\n",
       "      <th>DateTimeReported</th>\n",
       "      <th>TotalDailyCrime</th>\n",
       "    </tr>\n",
       "  </thead>\n",
       "  <tbody>\n",
       "    <tr>\n",
       "      <th>0</th>\n",
       "      <td>180204779</td>\n",
       "      <td>2018-01-17</td>\n",
       "      <td>2010-01-01</td>\n",
       "      <td>00:01:00</td>\n",
       "      <td>2</td>\n",
       "      <td>245</td>\n",
       "      <td>813</td>\n",
       "      <td>0510 0522 0558 1258 0602</td>\n",
       "      <td>-1</td>\n",
       "      <td>F</td>\n",
       "      <td>...</td>\n",
       "      <td>16:56:00</td>\n",
       "      <td>0.0</td>\n",
       "      <td>0.0</td>\n",
       "      <td>0.0</td>\n",
       "      <td>0.9</td>\n",
       "      <td>82.6</td>\n",
       "      <td>1</td>\n",
       "      <td>2010-01-01 00:01:00</td>\n",
       "      <td>2018-01-17</td>\n",
       "      <td>2154</td>\n",
       "    </tr>\n",
       "    <tr>\n",
       "      <th>1</th>\n",
       "      <td>172020383</td>\n",
       "      <td>2017-11-12</td>\n",
       "      <td>2010-01-01</td>\n",
       "      <td>00:01:00</td>\n",
       "      <td>20</td>\n",
       "      <td>2074</td>\n",
       "      <td>354</td>\n",
       "      <td>0100</td>\n",
       "      <td>51</td>\n",
       "      <td>F</td>\n",
       "      <td>...</td>\n",
       "      <td>16:56:00</td>\n",
       "      <td>0.0</td>\n",
       "      <td>0.0</td>\n",
       "      <td>0.0</td>\n",
       "      <td>0.9</td>\n",
       "      <td>82.6</td>\n",
       "      <td>1</td>\n",
       "      <td>2010-01-01 00:01:00</td>\n",
       "      <td>2017-11-12</td>\n",
       "      <td>2154</td>\n",
       "    </tr>\n",
       "    <tr>\n",
       "      <th>2</th>\n",
       "      <td>171913109</td>\n",
       "      <td>2017-06-13</td>\n",
       "      <td>2010-01-01</td>\n",
       "      <td>00:01:00</td>\n",
       "      <td>19</td>\n",
       "      <td>1994</td>\n",
       "      <td>354</td>\n",
       "      <td>0377 1822</td>\n",
       "      <td>42</td>\n",
       "      <td>F</td>\n",
       "      <td>...</td>\n",
       "      <td>16:56:00</td>\n",
       "      <td>0.0</td>\n",
       "      <td>0.0</td>\n",
       "      <td>0.0</td>\n",
       "      <td>0.9</td>\n",
       "      <td>82.6</td>\n",
       "      <td>1</td>\n",
       "      <td>2010-01-01 00:01:00</td>\n",
       "      <td>2017-06-13</td>\n",
       "      <td>2154</td>\n",
       "    </tr>\n",
       "    <tr>\n",
       "      <th>3</th>\n",
       "      <td>172013071</td>\n",
       "      <td>2017-06-28</td>\n",
       "      <td>2010-01-01</td>\n",
       "      <td>00:01:00</td>\n",
       "      <td>20</td>\n",
       "      <td>2025</td>\n",
       "      <td>820</td>\n",
       "      <td>1257 0550</td>\n",
       "      <td>-1</td>\n",
       "      <td>F</td>\n",
       "      <td>...</td>\n",
       "      <td>16:56:00</td>\n",
       "      <td>0.0</td>\n",
       "      <td>0.0</td>\n",
       "      <td>0.0</td>\n",
       "      <td>0.9</td>\n",
       "      <td>82.6</td>\n",
       "      <td>1</td>\n",
       "      <td>2010-01-01 00:01:00</td>\n",
       "      <td>2017-06-28</td>\n",
       "      <td>2154</td>\n",
       "    </tr>\n",
       "    <tr>\n",
       "      <th>4</th>\n",
       "      <td>171809308</td>\n",
       "      <td>2017-04-05</td>\n",
       "      <td>2010-01-01</td>\n",
       "      <td>00:01:00</td>\n",
       "      <td>18</td>\n",
       "      <td>1891</td>\n",
       "      <td>760</td>\n",
       "      <td>0515 0913 1817 1820 0516 0500 0506</td>\n",
       "      <td>18</td>\n",
       "      <td>F</td>\n",
       "      <td>...</td>\n",
       "      <td>16:56:00</td>\n",
       "      <td>0.0</td>\n",
       "      <td>0.0</td>\n",
       "      <td>0.0</td>\n",
       "      <td>0.9</td>\n",
       "      <td>82.6</td>\n",
       "      <td>1</td>\n",
       "      <td>2010-01-01 00:01:00</td>\n",
       "      <td>2017-04-05</td>\n",
       "      <td>2154</td>\n",
       "    </tr>\n",
       "  </tbody>\n",
       "</table>\n",
       "<p>5 rows × 44 columns</p>\n",
       "</div>"
      ],
      "text/plain": [
       "          ID DateReported DateOccurred TimeOccurred  AreaID  \\\n",
       "0  180204779   2018-01-17   2010-01-01     00:01:00       2   \n",
       "1  172020383   2017-11-12   2010-01-01     00:01:00      20   \n",
       "2  171913109   2017-06-13   2010-01-01     00:01:00      19   \n",
       "3  172013071   2017-06-28   2010-01-01     00:01:00      20   \n",
       "4  171809308   2017-04-05   2010-01-01     00:01:00      18   \n",
       "\n",
       "   ReportingDistrict  CrimeCode                             MOCodes  \\\n",
       "0                245        813            0510 0522 0558 1258 0602   \n",
       "1               2074        354                                0100   \n",
       "2               1994        354                           0377 1822   \n",
       "3               2025        820                           1257 0550   \n",
       "4               1891        760  0515 0913 1817 1820 0516 0500 0506   \n",
       "\n",
       "   VictimAge VictimSex       ...       DailySunset  DailyPrecip  \\\n",
       "0         -1         F       ...          16:56:00          0.0   \n",
       "1         51         F       ...          16:56:00          0.0   \n",
       "2         42         F       ...          16:56:00          0.0   \n",
       "3         -1         F       ...          16:56:00          0.0   \n",
       "4         18         F       ...          16:56:00          0.0   \n",
       "\n",
       "   DailySnowfall DailySnowDepth  DailyAverageWindSpeed  DailyAverageHeatIndex  \\\n",
       "0            0.0            0.0                    0.9                   82.6   \n",
       "1            0.0            0.0                    0.9                   82.6   \n",
       "2            0.0            0.0                    0.9                   82.6   \n",
       "3            0.0            0.0                    0.9                   82.6   \n",
       "4            0.0            0.0                    0.9                   82.6   \n",
       "\n",
       "   night    DateTimeOccurred DateTimeReported TotalDailyCrime  \n",
       "0      1 2010-01-01 00:01:00       2018-01-17            2154  \n",
       "1      1 2010-01-01 00:01:00       2017-11-12            2154  \n",
       "2      1 2010-01-01 00:01:00       2017-06-13            2154  \n",
       "3      1 2010-01-01 00:01:00       2017-06-28            2154  \n",
       "4      1 2010-01-01 00:01:00       2017-04-05            2154  \n",
       "\n",
       "[5 rows x 44 columns]"
      ]
     },
     "execution_count": 33,
     "metadata": {},
     "output_type": "execute_result"
    }
   ],
   "source": [
    "dateD = dict(dateCounts)\n",
    "dfCrime[\"TotalDailyCrime\"] = dfCrime.apply(lambda row: dateD[row[\"DateOccurred\"]], axis=1)\n",
    "dfCrime.head()"
   ]
  },
  {
   "cell_type": "code",
   "execution_count": 34,
   "metadata": {},
   "outputs": [
    {
     "data": {
      "text/plain": [
       "-0.14101185221502088"
      ]
     },
     "execution_count": 34,
     "metadata": {},
     "output_type": "execute_result"
    }
   ],
   "source": [
    "dfCrime[\"TotalDailyCrime\"].corr(dfCrime[\"UnemploymentRate\"])"
   ]
  },
  {
   "cell_type": "markdown",
   "metadata": {},
   "source": [
    "Slight negative correlation of -0.141 between the unemployment rate and number of crimes committed for a given day."
   ]
  },
  {
   "cell_type": "code",
   "execution_count": 35,
   "metadata": {},
   "outputs": [
    {
     "data": {
      "text/plain": [
       "-0.013343742389180851"
      ]
     },
     "execution_count": 35,
     "metadata": {},
     "output_type": "execute_result"
    }
   ],
   "source": [
    "dfCrime[\"TotalDailyCrime\"].corr(dfCrime[\"DailyAverageHeatIndex\"])"
   ]
  },
  {
   "cell_type": "markdown",
   "metadata": {},
   "source": [
    "Slight negative correlation of -0.013 between heat index and the total number of crimes in a day."
   ]
  },
  {
   "cell_type": "code",
   "execution_count": 36,
   "metadata": {},
   "outputs": [
    {
     "data": {
      "text/plain": [
       "0.0021247574770198755"
      ]
     },
     "execution_count": 36,
     "metadata": {},
     "output_type": "execute_result"
    }
   ],
   "source": [
    "dfCrime[\"TotalDailyCrime\"].corr(dfCrime[\"DailyAverageRelativeHumidity\"])"
   ]
  },
  {
   "cell_type": "markdown",
   "metadata": {},
   "source": [
    "Very slight positive correlation of 0.002 between crime and humidity. This probably isn't very useful."
   ]
  },
  {
   "cell_type": "code",
   "execution_count": 37,
   "metadata": {},
   "outputs": [
    {
     "data": {
      "text/plain": [
       "-0.035095496654067415"
      ]
     },
     "execution_count": 37,
     "metadata": {},
     "output_type": "execute_result"
    }
   ],
   "source": [
    "dfCrime[\"TotalDailyCrime\"].corr(dfCrime[\"DailyPrecip\"])"
   ]
  },
  {
   "cell_type": "markdown",
   "metadata": {},
   "source": [
    "Slight negative correlation of -0.035 between precipitation and crime."
   ]
  },
  {
   "cell_type": "markdown",
   "metadata": {},
   "source": [
    "Correlations with unemployment rate may be easier to find if we look at monthly crime. "
   ]
  },
  {
   "cell_type": "code",
   "execution_count": 38,
   "metadata": {
    "collapsed": true
   },
   "outputs": [],
   "source": [
    "monthlyCrimeCounts = {}\n",
    "for i, row in dfCrime.iterrows():\n",
    "    date = row[\"DateTimeOccurred\"]\n",
    "    try:\n",
    "        monthlyCrimeCounts[(date.month, date.year)][0] += 1\n",
    "    except KeyError:\n",
    "        monthlyCrimeCounts[(date.month, date.year)] = [1, row[\"UnemploymentRate\"]]"
   ]
  },
  {
   "cell_type": "code",
   "execution_count": 39,
   "metadata": {},
   "outputs": [
    {
     "data": {
      "text/plain": [
       "-0.52870125240059618"
      ]
     },
     "execution_count": 39,
     "metadata": {},
     "output_type": "execute_result"
    }
   ],
   "source": [
    "combo = list(zip(*list(monthlyCrimeCounts.values())))\n",
    "crimes = pd.Series(combo[0])\n",
    "rates = pd.Series(combo[1])\n",
    "\n",
    "rates.corr(crimes)"
   ]
  },
  {
   "cell_type": "markdown",
   "metadata": {},
   "source": [
    "There is a fairly significant negative correlation of -0.529 between crime and unemployment rate."
   ]
  },
  {
   "cell_type": "code",
   "execution_count": 40,
   "metadata": {
    "collapsed": true
   },
   "outputs": [],
   "source": [
    "medHI = np.median(trueHI)\n",
    "q1HI = np.percentile(trueHI, 25)\n",
    "q3HI = np.percentile(trueHI, 75)"
   ]
  },
  {
   "cell_type": "code",
   "execution_count": 41,
   "metadata": {
    "collapsed": true
   },
   "outputs": [],
   "source": [
    "colder = dfCrime.loc[dfCrime[\"DailyAverageHeatIndex\"] < q1HI]\n",
    "middle = dfCrime.loc[(dfCrime[\"DailyAverageHeatIndex\"]>= q1HI) & (dfCrime[\"DailyAverageHeatIndex\"] <= q3HI)]\n",
    "warmer = dfCrime.loc[dfCrime[\"DailyAverageHeatIndex\"] > q3HI]"
   ]
  },
  {
   "cell_type": "code",
   "execution_count": 42,
   "metadata": {},
   "outputs": [
    {
     "name": "stdout",
     "output_type": "stream",
     "text": [
      "Colder: 418.17699115044246\n",
      "Middle: 443.34068136272543\n",
      "Warmer: 476.69885550786836\n"
     ]
    }
   ],
   "source": [
    "colderMeanCrimes = np.mean(colder[\"DateOccurred\"].value_counts())\n",
    "middleMeanCrimes = np.mean(middle[\"DateOccurred\"].value_counts())\n",
    "warmerMeanCrimes = np.mean(warmer[\"DateOccurred\"].value_counts())\n",
    "print(\"Colder:\", colderMeanCrimes)\n",
    "print(\"Middle:\", middleMeanCrimes)\n",
    "print(\"Warmer:\", warmerMeanCrimes)"
   ]
  },
  {
   "cell_type": "markdown",
   "metadata": {},
   "source": [
    "Slight differences but noting significant."
   ]
  },
  {
   "cell_type": "code",
   "execution_count": 43,
   "metadata": {
    "collapsed": true
   },
   "outputs": [],
   "source": [
    "rain = dfCrime.loc[dfCrime[\"DailyPrecip\"] > 0]\n",
    "noRain = dfCrime.loc[dfCrime[\"DailyPrecip\"] <= 0]"
   ]
  },
  {
   "cell_type": "code",
   "execution_count": 45,
   "metadata": {},
   "outputs": [
    {
     "name": "stdout",
     "output_type": "stream",
     "text": [
      "Rain: 349.3621495327103\n",
      "No Rain: 540.1561829878484\n"
     ]
    }
   ],
   "source": [
    "rainMean = np.mean(rain[\"DateOccurred\"].value_counts())\n",
    "noRainMean = np.mean(noRain[\"DateOccurred\"].value_counts())\n",
    "\n",
    "print(\"Rain:\", rainMean)\n",
    "print(\"No Rain:\", noRainMean)"
   ]
  },
  {
   "cell_type": "markdown",
   "metadata": {
    "collapsed": true
   },
   "source": [
    "It looks like more crimes occur when there is no rain."
   ]
  },
  {
   "cell_type": "code",
   "execution_count": 46,
   "metadata": {
    "collapsed": true
   },
   "outputs": [],
   "source": [
    "rainData = rain[\"DateOccurred\"].value_counts()\n",
    "noRainData = noRain[\"DateOccurred\"].value_counts()"
   ]
  },
  {
   "cell_type": "code",
   "execution_count": 47,
   "metadata": {},
   "outputs": [
    {
     "name": "stdout",
     "output_type": "stream",
     "text": [
      "14.7198478234\n"
     ]
    },
    {
     "data": {
      "text/plain": [
       "0.0"
      ]
     },
     "execution_count": 47,
     "metadata": {},
     "output_type": "execute_result"
    }
   ],
   "source": [
    "z = (noRainMean - rainMean) / np.sqrt((np.std(rainData)**2)/len(rainData) + (np.std(noRainData)**2)/len(noRainData))\n",
    "print(z)\n",
    "p = 1-stats.norm.cdf(z)\n",
    "p"
   ]
  },
  {
   "cell_type": "markdown",
   "metadata": {},
   "source": [
    "A p-value test confirms that the mean number of crimes committed daily is greater when there is no precipitation."
   ]
  },
  {
   "cell_type": "code",
   "execution_count": 48,
   "metadata": {
    "collapsed": true
   },
   "outputs": [],
   "source": [
    "timeDiff = dfCrime[\"DateTimeReported\"]-dfCrime[\"DateTimeOccurred\"]"
   ]
  },
  {
   "cell_type": "code",
   "execution_count": 49,
   "metadata": {
    "collapsed": true
   },
   "outputs": [],
   "source": [
    "timeDiffs = []\n",
    "for deltaTime in timeDiff:\n",
    "    timeDiffs.append(deltaTime.total_seconds())"
   ]
  },
  {
   "cell_type": "code",
   "execution_count": 50,
   "metadata": {},
   "outputs": [
    {
     "name": "stdout",
     "output_type": "stream",
     "text": [
      "16.1921506275 0.0833333333333\n"
     ]
    }
   ],
   "source": [
    "mean = ((np.mean(timeDiffs)/60)/60)/24\n",
    "median = ((np.median(timeDiffs)/60)/60)/24\n",
    "print(mean, median)\n",
    "timeDiffsSeries = pd.Series(timeDiffs)/(60 * 60 * 24)"
   ]
  },
  {
   "cell_type": "code",
   "execution_count": 51,
   "metadata": {},
   "outputs": [
    {
     "data": {
      "text/plain": [
       "{'boxes': [<matplotlib.lines.Line2D at 0x130de77f0>],\n",
       " 'caps': [<matplotlib.lines.Line2D at 0x186c24be0>,\n",
       "  <matplotlib.lines.Line2D at 0x186c24dd8>],\n",
       " 'fliers': [<matplotlib.lines.Line2D at 0x186c24080>],\n",
       " 'means': [],\n",
       " 'medians': [<matplotlib.lines.Line2D at 0x186c24b00>],\n",
       " 'whiskers': [<matplotlib.lines.Line2D at 0x130de7b00>,\n",
       "  <matplotlib.lines.Line2D at 0x130de7828>]}"
      ]
     },
     "execution_count": 51,
     "metadata": {},
     "output_type": "execute_result"
    },
    {
     "data": {
      "image/png": "[encoded data removed]",
      "text/plain": [
       "<matplotlib.figure.Figure at 0x186b50f60>"
      ]
     },
     "metadata": {},
     "output_type": "display_data"
    }
   ],
   "source": [
    "plt.boxplot(timeDiffsSeries)"
   ]
  },
  {
   "cell_type": "markdown",
   "metadata": {},
   "source": [
    "These large differences in DateOccurred and DateReported may be unique to a specific year which would suggest that they are errors."
   ]
  },
  {
   "cell_type": "code",
   "execution_count": 52,
   "metadata": {
    "collapsed": true
   },
   "outputs": [],
   "source": [
    "yearDiffs = {}\n",
    "for year in range(2010, 2019):\n",
    "    yearDiffs[year] = []\n",
    "\n",
    "\n",
    "for ii, row in dfCrime.iterrows():\n",
    "    year = row[\"DateTimeOccurred\"].year\n",
    "    yearDiffs[year].append((row[\"DateTimeOccurred\"] - row[\"DateTimeReported\"]).total_seconds()/86400)"
   ]
  },
  {
   "cell_type": "code",
   "execution_count": 53,
   "metadata": {},
   "outputs": [
    {
     "name": "stdout",
     "output_type": "stream",
     "text": [
      "{2010: (26.401786783745997, 0.125), 2011: (24.595175584620829, 0.093750000000000014), 2012: (20.436844603470927, 0.083333333333333329), 2013: (18.077582875403785, 0.083333333333333329), 2014: (15.971842729759404, 0.093750000000000014), 2015: (12.63631550195403, 0.083333333333333329), 2016: (8.9283159829369438, 0.041666666666666664), 2017: (4.7402480371228997, -0.010416666666666666), 2018: (nan, nan)}\n"
     ]
    },
    {
     "name": "stderr",
     "output_type": "stream",
     "text": [
      "/Users/eoin/anaconda/lib/python3.6/site-packages/numpy/core/fromnumeric.py:2909: RuntimeWarning: Mean of empty slice.\n",
      "  out=out, **kwargs)\n",
      "/Users/eoin/anaconda/lib/python3.6/site-packages/numpy/core/_methods.py:80: RuntimeWarning: invalid value encountered in double_scalars\n",
      "  ret = ret.dtype.type(ret / rcount)\n"
     ]
    }
   ],
   "source": [
    "for key in yearDiffs.keys():\n",
    "    mean = np.mean(yearDiffs[key])\n",
    "    median = np.median(yearDiffs[key])\n",
    "    yearDiffs[key] = (-mean, -median)\n",
    "print(yearDiffs)"
   ]
  },
  {
   "cell_type": "markdown",
   "metadata": {},
   "source": [
    "It looks like they are not unique to a specific year. Let's see what crimes take longer to report."
   ]
  },
  {
   "cell_type": "code",
   "execution_count": 54,
   "metadata": {
    "collapsed": true
   },
   "outputs": [],
   "source": [
    "dfCrime[\"TimeDiff\"] = dfCrime.apply(lambda row: (row[\"DateTimeReported\"]-row[\"DateTimeOccurred\"]).total_seconds(), axis=1)"
   ]
  },
  {
   "cell_type": "code",
   "execution_count": 55,
   "metadata": {
    "collapsed": true
   },
   "outputs": [],
   "source": [
    "week = 7 * 24 * 60 * 60\n",
    "\n",
    "shortReport = dfCrime.loc[dfCrime[\"TimeDiff\"] < week]\n",
    "longReport = dfCrime.loc[dfCrime[\"TimeDiff\"] >= week]"
   ]
  },
  {
   "cell_type": "code",
   "execution_count": 56,
   "metadata": {
    "collapsed": true
   },
   "outputs": [],
   "source": [
    "ccShort = shortReport[\"CrimeCode\"].value_counts().sort_values(ascending=False)"
   ]
  },
  {
   "cell_type": "code",
   "execution_count": 57,
   "metadata": {
    "collapsed": true
   },
   "outputs": [],
   "source": [
    "ccLong = longReport[\"CrimeCode\"].value_counts().sort_values(ascending=False)"
   ]
  },
  {
   "cell_type": "code",
   "execution_count": 58,
   "metadata": {},
   "outputs": [
    {
     "data": {
      "text/plain": [
       "624    146764\n",
       "330    121777\n",
       "510    120451\n",
       "310    108572\n",
       "440    101970\n",
       "Name: CrimeCode, dtype: int64"
      ]
     },
     "execution_count": 58,
     "metadata": {},
     "output_type": "execute_result"
    }
   ],
   "source": [
    "ccShort.head()"
   ]
  },
  {
   "cell_type": "code",
   "execution_count": 59,
   "metadata": {
    "collapsed": true
   },
   "outputs": [],
   "source": [
    "topCCShort = list(ccShort.head(10).index)\n",
    "topCCLong = list(ccLong.head(10).index)"
   ]
  },
  {
   "cell_type": "code",
   "execution_count": 60,
   "metadata": {},
   "outputs": [
    {
     "name": "stdout",
     "output_type": "stream",
     "text": [
      "[624, 330, 510, 310, 440, 626, 740, 745, 230, 210]\n",
      "[354, 341, 440, 649, 310, 510, 420, 740, 956, 330]\n"
     ]
    }
   ],
   "source": [
    "print(topCCShort)\n",
    "print(topCCLong)"
   ]
  },
  {
   "cell_type": "markdown",
   "metadata": {},
   "source": [
    "Some overlap in top crime codes."
   ]
  },
  {
   "cell_type": "code",
   "execution_count": 61,
   "metadata": {
    "collapsed": true
   },
   "outputs": [],
   "source": [
    "def lookupCode(code):\n",
    "    return list(dfCC[\"CrimeCodeDescription\"].loc[dfCC[\"CrimeCode\"]==code])[0]"
   ]
  },
  {
   "cell_type": "code",
   "execution_count": 62,
   "metadata": {},
   "outputs": [
    {
     "name": "stdout",
     "output_type": "stream",
     "text": [
      "BATTERY - SIMPLE ASSAULT\n",
      "BURGLARY FROM VEHICLE\n",
      "VEHICLE - STOLEN\n",
      "BURGLARY\n",
      "THEFT PLAIN - PETTY ($950 & UN\n",
      "INTIMATE PARTNER - SIMPLE ASSA\n",
      "VANDALISM - FELONY ($400 & OVE\n",
      "VANDALISM - MISDEAMEANOR ($399\n",
      "ASSAULT WITH DEADLY WEAPON, AG\n",
      "ROBBERY\n"
     ]
    }
   ],
   "source": [
    "for c in list(map(lookupCode, topCCShort)):\n",
    "    print(c)"
   ]
  },
  {
   "cell_type": "code",
   "execution_count": 63,
   "metadata": {},
   "outputs": [
    {
     "name": "stdout",
     "output_type": "stream",
     "text": [
      "THEFT OF IDENTITY\n",
      "THEFT-GRAND ($950.01 & OVER)EX\n",
      "THEFT PLAIN - PETTY ($950 & UN\n",
      "DOCUMENT FORGERY / STOLEN FELO\n",
      "BURGLARY\n",
      "VEHICLE - STOLEN\n",
      "THEFT FROM MOTOR VEHICLE - PET\n",
      "VANDALISM - FELONY ($400 & OVE\n",
      "LETTERS, LEWD\n",
      "BURGLARY FROM VEHICLE\n"
     ]
    }
   ],
   "source": [
    "for c in list(map(lookupCode, topCCLong)):\n",
    "    print(c)"
   ]
  },
  {
   "cell_type": "code",
   "execution_count": 64,
   "metadata": {},
   "outputs": [
    {
     "data": {
      "text/plain": [
       "M    46.603255\n",
       "F    42.544633\n",
       "X    10.848681\n",
       "H     0.003372\n",
       "-     0.000060\n",
       "Name: VictimSex, dtype: float64"
      ]
     },
     "execution_count": 64,
     "metadata": {},
     "output_type": "execute_result"
    }
   ],
   "source": [
    "# victimDescFreq \n",
    "victimSexFreq "
   ]
  },
  {
   "cell_type": "markdown",
   "metadata": {},
   "source": [
    "# Results\n",
    "---\n",
    "\n",
    "Average victim age: 35.958\n",
    "\n",
    "## Frequencies / Rankings\n",
    "\n",
    "Most frequent victim descents:\n",
    "\n",
    "| Descent | % of Victims |\n",
    "| ------- | ---------------|\n",
    "| Hispanic | 34.641071 |\n",
    "| White | 24.644707 |\n",
    "| Black | 16.044107 |\n",
    "| X (Unknown) | 11.955079 |\n",
    "| Other | 9.658110 |\n",
    "\n",
    "Victim sex:\n",
    "\n",
    "| Sex | % of Victims |\n",
    "| --- | ------------ |\n",
    "| M | 46.603255 |\n",
    "| F | 42.544633 |\n",
    "| Not Reported | 10.852112|\n",
    "\n",
    "Most dangerous parts of LA:\n",
    "\n",
    "| Area | % of Total Crimes |\n",
    "| -- | -- |\n",
    "| 77th Street  |  6.967615 |\n",
    "|Southwest|      6.452347|\n",
    "|N Hollywood|    5.439272|\n",
    "|Pacific|        5.286643|\n",
    "|Southeast|      5.265449|\n",
    "\n",
    "More crimes occur during the day\n",
    "\n",
    "| Time of Day | % of Crimes |\n",
    "|-|-|\n",
    "|Day    |54.856631|\n",
    "|Night  |45.143369|\n",
    "\n",
    "Status of crimes:\n",
    "\n",
    "|Status | % of Crimes |\n",
    "|-|-|\n",
    "|Invest Cont|     77.319488|\n",
    "|Adult Other|     11.359011|\n",
    "|Adult Arrest|    10.282055|\n",
    "|Juv Arrest|       0.790182|\n",
    "|Juv Other|        0.247459|\n",
    "|UNK|              0.000060|\n",
    "\n",
    "Most frequent locations:\n",
    "\n",
    "| Location | % of Total Crimes |\n",
    "|-|-|\n",
    "|STREET|                                          22.273922|\n",
    "|SINGLE FAMILY DWELLING                          |20.633349|\n",
    "|MULTI-UNIT DWELLING (APARTMENT, DUPLEX, ETC)|    12.869291|\n",
    "|PARKING LOT                                      |7.117053|\n",
    "|SIDEWALK|                                         4.992341|\n",
    "\n",
    "Most frequent Weapons:\n",
    "\n",
    "| Weapon | % of Total Crimes |\n",
    "|-|-|\n",
    "|STRONG-ARM (HANDS, FIST, FEET OR BODILY FORCE)  |  20.148848|\n",
    "|VERBAL THREAT                  |                    2.750222|\n",
    "|UNKNOWN WEAPON/OTHER WEAPON     |                   2.584226|\n",
    "|HAND GUN                         |                  1.595957|\n",
    "|SEMI-AUTOMATIC PISTOL             |                 0.630869|\n",
    "\n",
    "Most violent days:\n",
    "\n",
    "|Day | # of Crimes |\n",
    "|-|-|\n",
    "|2010-01-01    |2154|\n",
    "|2011-01-01    |2068|\n",
    "|2012-01-01    |1658|\n",
    "|2013-01-01    |1480|\n",
    "|2014-01-01    |1350|\n",
    "\n",
    "Mean number of crimes in a day: 568.41\n",
    "\n",
    "The first of the month is also generally the most violent.\n",
    "\n",
    "## Correlations\n",
    "Correlation between monthly crime and unemployment rate: -0.528\n",
    "\n",
    "## Misc Stats\n",
    "Effect of rain on crime:\n",
    "\n",
    "| Rain | Average Number of Crimes (Daily) |\n",
    "|-|-|\n",
    "|No| 540.1561829878484|\n",
    "|Yes| 349.3621495327103|\n",
    "\n",
    "Temperature had no significant effect.\n",
    "\n",
    "**Time taken to report a crime (days):**\n",
    "\n",
    "Mean: 16.1921506275 \n",
    "\n",
    "Median: 0.0833333333333\n",
    "\n",
    "Quite a skew\n",
    "\n",
    "Most frequent crimes for shorter reporting periods:\n",
    "\n",
    "|Rank|Crime|\n",
    "|-|-|\n",
    "|1|BATTERY - SIMPLE ASSAULT|\n",
    "|2|BURGLARY FROM VEHICLE|\n",
    "|3|VEHICLE - STOLEN|\n",
    "|4|BURGLARY|\n",
    "|5|THEFT PLAIN - PETTY ($950 & UNDER)|\n",
    "\n",
    "Most frequent crimes for longer reporting periods:\n",
    "\n",
    "|Rank|Crime|\n",
    "|-|-|\n",
    "|1|THEFT OF IDENTITY|\n",
    "|2|THEFT-GRAND|\n",
    "|3|THEFT PLAIN - PETTY|\n",
    "|4|DOCUMENT FORGERY / STOLEN FELONY|\n",
    "|5|BURGLARY|"
   ]
  },
  {
   "cell_type": "code",
   "execution_count": 114,
   "metadata": {
    "collapsed": true
   },
   "outputs": [],
   "source": [
    "dates = list(dateCounts.index)\n",
    "vals = list(dateCounts)\n",
    "datetimes = [datetime.strptime(date, \"%Y-%m-%d\") for date in dates]\n",
    "toplot = matplotlib.dates.date2num(datetimes)\n",
    "\n",
    "# fig, ax = plt.subplots(figsize=(10,5))\n",
    "# plt.plot_date(toplot, list(dateCounts))"
   ]
  },
  {
   "cell_type": "code",
   "execution_count": 92,
   "metadata": {
    "collapsed": true
   },
   "outputs": [],
   "source": [
    "df = pd.DataFrame(data = {\"Date\":toplot, \"Count\":list(dateCounts)})"
   ]
  },
  {
   "cell_type": "code",
   "execution_count": 110,
   "metadata": {
    "collapsed": true
   },
   "outputs": [],
   "source": [
    "d = list(df.sort_values(by=\"Date\", axis=0)[\"Date\"])\n",
    "c = list(df.sort_values(by=\"Date\", axis=0)[\"Count\"])"
   ]
  },
  {
   "cell_type": "code",
   "execution_count": 113,
   "metadata": {},
   "outputs": [
    {
     "data": {
      "text/plain": [
       "Text(0,0.5,'Number of crimes')"
      ]
     },
     "execution_count": 113,
     "metadata": {},
     "output_type": "execute_result"
    },
    {
     "data": {
      "image/png": "[encoded data removed]",
      "text/plain": [
       "<matplotlib.figure.Figure at 0x11e065780>"
      ]
     },
     "metadata": {},
     "output_type": "display_data"
    }
   ],
   "source": [
    "fig, ax = plt.subplots(figsize=(15,5))\n",
    "plt.plot_date(d, c, '-')\n",
    "ax.set_title(\"Crimes Per Day Over Time\")\n",
    "ax.set_xlabel(\"Date\")\n",
    "ax.set_ylabel(\"Number of crimes\")"
   ]
  },
  {
   "cell_type": "code",
   "execution_count": null,
   "metadata": {
    "collapsed": true
   },
   "outputs": [],
   "source": []
  }
 ],
 "metadata": {
  "kernelspec": {
   "display_name": "Python 3",
   "language": "python",
   "name": "python3"
  },
  "language_info": {
   "codemirror_mode": {
    "name": "ipython",
    "version": 3
   },
   "file_extension": ".py",
   "mimetype": "text/x-python",
   "name": "python",
   "nbconvert_exporter": "python",
   "pygments_lexer": "ipython3",
   "version": "3.6.2"
  }
 },
 "nbformat": 4,
 "nbformat_minor": 2
}
