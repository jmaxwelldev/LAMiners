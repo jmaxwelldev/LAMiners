{
 "cells": [
  {
   "cell_type": "code",
   "execution_count": 11,
   "metadata": {
    "collapsed": true
   },
   "outputs": [],
   "source": [
    "import pandas as pd\n",
    "import numpy as np"
   ]
  },
  {
   "cell_type": "code",
   "execution_count": 12,
   "metadata": {},
   "outputs": [
    {
     "name": "stderr",
     "output_type": "stream",
     "text": [
      "/Users/eoin/anaconda/lib/python3.6/site-packages/IPython/core/interactiveshell.py:2698: DtypeWarning: Columns (8,10,11,27,28,29,33,34,64,84,85,86,87) have mixed types. Specify dtype option on import or set low_memory=False.\n",
      "  interactivity=interactivity, compiler=compiler, result=result)\n"
     ]
    }
   ],
   "source": [
    "df = pd.read_csv(\"../Data/Downtown_LA_Weather_Data.csv\")"
   ]
  },
  {
   "cell_type": "code",
   "execution_count": 43,
   "metadata": {},
   "outputs": [],
   "source": [
    "df.keys()\n",
    "hourlyCols = ['DATE', 'REPORTTPYE', 'HOURLYVISIBILITY', 'HOURLYDRYBULBTEMPF', 'HOURLYRelativeHumidity','HOURLYPrecip']\n",
    "dailyCols = ['DATE', 'DAILYMaximumDryBulbTemp', 'DAILYMinimumDryBulbTemp', 'DAILYAverageDryBulbTemp',\n",
    "              'DAILYAverageRelativeHumidity', 'DAILYSunrise', 'DAILYSunset', 'DAILYPrecip', 'DAILYSnowfall', \n",
    "              'DAILYSnowDepth', 'DAILYAverageWindSpeed']"
   ]
  },
  {
   "cell_type": "code",
   "execution_count": 44,
   "metadata": {},
   "outputs": [],
   "source": [
    "# df.to_csv(path_or_buf=\"ReducedWeather.csv\", columns=colsToKeep)"
   ]
  },
  {
   "cell_type": "code",
   "execution_count": 57,
   "metadata": {},
   "outputs": [],
   "source": [
    "dailySummaries = df.loc[df[\"REPORTTPYE\"] == \"SOD\"][dailyCols].copy()\n",
    "hourlySummaries = df.loc[((df[\"REPORTTPYE\"] == \"FM-15\") | (df[\"REPORTTPYE\"] == \"FM-16\"))][hourlyCols].copy()"
   ]
  },
  {
   "cell_type": "code",
   "execution_count": 63,
   "metadata": {},
   "outputs": [],
   "source": [
    "def heatIndex(T, R):\n",
    "    c1 = -42.379\n",
    "    c2 = 2.04901523\n",
    "    c3 = 10.14333127\n",
    "    c4 = -0.22475541\n",
    "    c5 = -6.83783e-3\n",
    "    c6 = -5.481717e-2\n",
    "    c7 = 1.22874e-3\n",
    "    c8 = 8.5282e-4\n",
    "    c9 = -1.99e-6\n",
    "    return c1 + c2 * T+c3 * R + c4 *T * R + c5 * T**2 + c6 * R**2 + c7 * T**2 * R + c8 * T * R**2 + c9 * T**2 * R**2\n"
   ]
  },
  {
   "cell_type": "code",
   "execution_count": 65,
   "metadata": {},
   "outputs": [
    {
     "data": {
      "text/html": [
       "<div>\n",
       "<style>\n",
       "    .dataframe thead tr:only-child th {\n",
       "        text-align: right;\n",
       "    }\n",
       "\n",
       "    .dataframe thead th {\n",
       "        text-align: left;\n",
       "    }\n",
       "\n",
       "    .dataframe tbody tr th {\n",
       "        vertical-align: top;\n",
       "    }\n",
       "</style>\n",
       "<table border=\"1\" class=\"dataframe\">\n",
       "  <thead>\n",
       "    <tr style=\"text-align: right;\">\n",
       "      <th></th>\n",
       "      <th>DATE</th>\n",
       "      <th>REPORTTPYE</th>\n",
       "      <th>HOURLYVISIBILITY</th>\n",
       "      <th>HOURLYDRYBULBTEMPF</th>\n",
       "      <th>HOURLYRelativeHumidity</th>\n",
       "      <th>HOURLYPrecip</th>\n",
       "      <th>HOURLYHeatIndex</th>\n",
       "    </tr>\n",
       "  </thead>\n",
       "  <tbody>\n",
       "    <tr>\n",
       "      <th>0</th>\n",
       "      <td>2010-01-01 00:47</td>\n",
       "      <td>FM-15</td>\n",
       "      <td>10.00</td>\n",
       "      <td>54.0</td>\n",
       "      <td>47.0</td>\n",
       "      <td>0.00</td>\n",
       "      <td>90.857208</td>\n",
       "    </tr>\n",
       "    <tr>\n",
       "      <th>1</th>\n",
       "      <td>2010-01-01 01:47</td>\n",
       "      <td>FM-15</td>\n",
       "      <td>10.00</td>\n",
       "      <td>53.0</td>\n",
       "      <td>51.0</td>\n",
       "      <td>0.00</td>\n",
       "      <td>93.280408</td>\n",
       "    </tr>\n",
       "    <tr>\n",
       "      <th>2</th>\n",
       "      <td>2010-01-01 02:47</td>\n",
       "      <td>FM-15</td>\n",
       "      <td>10.00</td>\n",
       "      <td>53.0</td>\n",
       "      <td>48.0</td>\n",
       "      <td>0.00</td>\n",
       "      <td>92.748596</td>\n",
       "    </tr>\n",
       "    <tr>\n",
       "      <th>3</th>\n",
       "      <td>2010-01-01 03:47</td>\n",
       "      <td>FM-15</td>\n",
       "      <td>10.00</td>\n",
       "      <td>53.0</td>\n",
       "      <td>48.0</td>\n",
       "      <td>0.00</td>\n",
       "      <td>92.748596</td>\n",
       "    </tr>\n",
       "    <tr>\n",
       "      <th>4</th>\n",
       "      <td>2010-01-01 04:47</td>\n",
       "      <td>FM-15</td>\n",
       "      <td>10.00</td>\n",
       "      <td>52.0</td>\n",
       "      <td>53.0</td>\n",
       "      <td>0.00</td>\n",
       "      <td>95.417298</td>\n",
       "    </tr>\n",
       "  </tbody>\n",
       "</table>\n",
       "</div>"
      ],
      "text/plain": [
       "               DATE REPORTTPYE HOURLYVISIBILITY  HOURLYDRYBULBTEMPF  \\\n",
       "0  2010-01-01 00:47      FM-15            10.00                54.0   \n",
       "1  2010-01-01 01:47      FM-15            10.00                53.0   \n",
       "2  2010-01-01 02:47      FM-15            10.00                53.0   \n",
       "3  2010-01-01 03:47      FM-15            10.00                53.0   \n",
       "4  2010-01-01 04:47      FM-15            10.00                52.0   \n",
       "\n",
       "   HOURLYRelativeHumidity HOURLYPrecip  HOURLYHeatIndex  \n",
       "0                    47.0         0.00        90.857208  \n",
       "1                    51.0         0.00        93.280408  \n",
       "2                    48.0         0.00        92.748596  \n",
       "3                    48.0         0.00        92.748596  \n",
       "4                    53.0         0.00        95.417298  "
      ]
     },
     "execution_count": 65,
     "metadata": {},
     "output_type": "execute_result"
    }
   ],
   "source": [
    "wrapper = lambda row: heatIndex(row[\"HOURLYDRYBULBTEMPF\"], row[\"HOURLYRelativeHumidity\"])\n",
    "hourlySummaries[\"HOURLYDRYBULBTEMPF\"] = pd.to_numeric(hourlySummaries[\"HOURLYDRYBULBTEMPF\"], errors=\"coerce\")\n",
    "hourlySummaries[\"HOURLYRelativeHumidity\"] = pd.to_numeric(hourlySummaries[\"HOURLYRelativeHumidity\"], errors=\"coerce\")\n",
    "hourlySummaries[\"HOURLYHeatIndex\"] = hourlySummaries.apply(wrapper, axis=1)\n",
    "\n",
    "hourlySummaries.head()"
   ]
  },
  {
   "cell_type": "code",
   "execution_count": 68,
   "metadata": {},
   "outputs": [
    {
     "data": {
      "text/html": [
       "<div>\n",
       "<style>\n",
       "    .dataframe thead tr:only-child th {\n",
       "        text-align: right;\n",
       "    }\n",
       "\n",
       "    .dataframe thead th {\n",
       "        text-align: left;\n",
       "    }\n",
       "\n",
       "    .dataframe tbody tr th {\n",
       "        vertical-align: top;\n",
       "    }\n",
       "</style>\n",
       "<table border=\"1\" class=\"dataframe\">\n",
       "  <thead>\n",
       "    <tr style=\"text-align: right;\">\n",
       "      <th></th>\n",
       "      <th>DATE</th>\n",
       "      <th>DAILYMaximumDryBulbTemp</th>\n",
       "      <th>DAILYMinimumDryBulbTemp</th>\n",
       "      <th>DAILYAverageDryBulbTemp</th>\n",
       "      <th>DAILYAverageRelativeHumidity</th>\n",
       "      <th>DAILYSunrise</th>\n",
       "      <th>DAILYSunset</th>\n",
       "      <th>DAILYPrecip</th>\n",
       "      <th>DAILYSnowfall</th>\n",
       "      <th>DAILYSnowDepth</th>\n",
       "      <th>DAILYAverageWindSpeed</th>\n",
       "      <th>DAILYAverageHeatIndex</th>\n",
       "    </tr>\n",
       "  </thead>\n",
       "  <tbody>\n",
       "    <tr>\n",
       "      <th>24</th>\n",
       "      <td>2010-01-01 23:59</td>\n",
       "      <td>70.0</td>\n",
       "      <td>51</td>\n",
       "      <td>60.0</td>\n",
       "      <td>44.0</td>\n",
       "      <td>659</td>\n",
       "      <td>1656</td>\n",
       "      <td>0.00</td>\n",
       "      <td>NaN</td>\n",
       "      <td>NaN</td>\n",
       "      <td>0.9</td>\n",
       "      <td>82.598461</td>\n",
       "    </tr>\n",
       "    <tr>\n",
       "      <th>49</th>\n",
       "      <td>2010-01-02 23:59</td>\n",
       "      <td>78.0</td>\n",
       "      <td>50</td>\n",
       "      <td>64.0</td>\n",
       "      <td>35.0</td>\n",
       "      <td>659</td>\n",
       "      <td>1657</td>\n",
       "      <td>0.00</td>\n",
       "      <td>NaN</td>\n",
       "      <td>NaN</td>\n",
       "      <td>0.9</td>\n",
       "      <td>78.191896</td>\n",
       "    </tr>\n",
       "    <tr>\n",
       "      <th>74</th>\n",
       "      <td>2010-01-03 23:59</td>\n",
       "      <td>79.0</td>\n",
       "      <td>54</td>\n",
       "      <td>66.0</td>\n",
       "      <td>24.0</td>\n",
       "      <td>659</td>\n",
       "      <td>1657</td>\n",
       "      <td>0.00</td>\n",
       "      <td>NaN</td>\n",
       "      <td>NaN</td>\n",
       "      <td>1.3</td>\n",
       "      <td>74.808287</td>\n",
       "    </tr>\n",
       "    <tr>\n",
       "      <th>99</th>\n",
       "      <td>2010-01-04 23:59</td>\n",
       "      <td>77.0</td>\n",
       "      <td>56</td>\n",
       "      <td>66.0</td>\n",
       "      <td>24.0</td>\n",
       "      <td>659</td>\n",
       "      <td>1658</td>\n",
       "      <td>0.00</td>\n",
       "      <td>NaN</td>\n",
       "      <td>NaN</td>\n",
       "      <td>2.3</td>\n",
       "      <td>74.808287</td>\n",
       "    </tr>\n",
       "    <tr>\n",
       "      <th>124</th>\n",
       "      <td>2010-01-05 23:59</td>\n",
       "      <td>78.0</td>\n",
       "      <td>54</td>\n",
       "      <td>66.0</td>\n",
       "      <td>34.0</td>\n",
       "      <td>659</td>\n",
       "      <td>1659</td>\n",
       "      <td>0.00</td>\n",
       "      <td>NaN</td>\n",
       "      <td>NaN</td>\n",
       "      <td>1.6</td>\n",
       "      <td>77.251239</td>\n",
       "    </tr>\n",
       "  </tbody>\n",
       "</table>\n",
       "</div>"
      ],
      "text/plain": [
       "                 DATE  DAILYMaximumDryBulbTemp DAILYMinimumDryBulbTemp  \\\n",
       "24   2010-01-01 23:59                     70.0                      51   \n",
       "49   2010-01-02 23:59                     78.0                      50   \n",
       "74   2010-01-03 23:59                     79.0                      54   \n",
       "99   2010-01-04 23:59                     77.0                      56   \n",
       "124  2010-01-05 23:59                     78.0                      54   \n",
       "\n",
       "     DAILYAverageDryBulbTemp  DAILYAverageRelativeHumidity  DAILYSunrise  \\\n",
       "24                      60.0                          44.0           659   \n",
       "49                      64.0                          35.0           659   \n",
       "74                      66.0                          24.0           659   \n",
       "99                      66.0                          24.0           659   \n",
       "124                     66.0                          34.0           659   \n",
       "\n",
       "     DAILYSunset DAILYPrecip  DAILYSnowfall  DAILYSnowDepth  \\\n",
       "24          1656        0.00            NaN             NaN   \n",
       "49          1657        0.00            NaN             NaN   \n",
       "74          1657        0.00            NaN             NaN   \n",
       "99          1658        0.00            NaN             NaN   \n",
       "124         1659        0.00            NaN             NaN   \n",
       "\n",
       "     DAILYAverageWindSpeed  DAILYAverageHeatIndex  \n",
       "24                     0.9              82.598461  \n",
       "49                     0.9              78.191896  \n",
       "74                     1.3              74.808287  \n",
       "99                     2.3              74.808287  \n",
       "124                    1.6              77.251239  "
      ]
     },
     "execution_count": 68,
     "metadata": {},
     "output_type": "execute_result"
    }
   ],
   "source": [
    "wrapper = lambda row: heatIndex(row[\"DAILYAverageDryBulbTemp\"], row[\"DAILYAverageRelativeHumidity\"])\n",
    "\n",
    "dailySummaries[\"DAILYAverageDryBulbTemp\"] = pd.to_numeric(dailySummaries[\"DAILYAverageDryBulbTemp\"], errors=\"coerce\")\n",
    "dailySummaries[\"DAILYAverageRelativeHumidity\"] = pd.to_numeric(dailySummaries[\"DAILYAverageRelativeHumidity\"], errors=\"coerce\")\n",
    "dailySummaries[\"DAILYAverageHeatIndex\"] = dailySummaries.apply(wrapper, axis=1)\n",
    "\n",
    "dailySummaries.head()"
   ]
  },
  {
   "cell_type": "code",
   "execution_count": 69,
   "metadata": {
    "collapsed": true
   },
   "outputs": [],
   "source": [
    "dailySummaries.to_csv(path_or_buf=\"DailyWeather.csv\")\n",
    "hourlySummaries.to_csv(path_or_buf=\"HourlyWeather.csv\")"
   ]
  },
  {
   "cell_type": "code",
   "execution_count": null,
   "metadata": {
    "collapsed": true
   },
   "outputs": [],
   "source": []
  }
 ],
 "metadata": {
  "kernelspec": {
   "display_name": "Python 3",
   "language": "python",
   "name": "python3"
  },
  "language_info": {
   "codemirror_mode": {
    "name": "ipython",
    "version": 3
   },
   "file_extension": ".py",
   "mimetype": "text/x-python",
   "name": "python",
   "nbconvert_exporter": "python",
   "pygments_lexer": "ipython3",
   "version": "3.6.2"
  }
 },
 "nbformat": 4,
 "nbformat_minor": 2
}
